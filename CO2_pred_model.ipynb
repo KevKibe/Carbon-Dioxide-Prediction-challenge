{
  "nbformat": 4,
  "nbformat_minor": 0,
  "metadata": {
    "colab": {
      "provenance": [],
      "authorship_tag": "ABX9TyM/nhC9pB99scNYtAsNdS0s"
    },
    "kernelspec": {
      "name": "python3",
      "display_name": "Python 3"
    },
    "language_info": {
      "name": "python"
    }
  },
  "cells": [
    {
      "cell_type": "code",
      "execution_count": 7,
      "metadata": {
        "id": "PBwWTohZbKIB"
      },
      "outputs": [],
      "source": [
        "import pandas as pd\n",
        "import numpy as np\n",
        "import matplotlib.pyplot as plt\n",
        "import seaborn as sns\n",
        "from sklearn.model_selection import train_test_split\n",
        "from sklearn.linear_model import LogisticRegression\n",
        "from sklearn import metrics\n",
        "from sklearn.metrics import (\n",
        "    f1_score,\n",
        "    accuracy_score,\n",
        "    recall_score,\n",
        "    precision_score,\n",
        "    confusion_matrix,\n",
        "    roc_auc_score,\n",
        "    \n",
        "    classification_report,\n",
        "    precision_recall_curve\n",
        ")\n",
        "from sklearn.preprocessing import StandardScaler, MinMaxScaler, OneHotEncoder\n",
        "from sklearn.svm import SVC\n",
        "from sklearn.tree import DecisionTreeClassifier\n",
        "from sklearn.ensemble import RandomForestClassifier"
      ]
    },
    {
      "cell_type": "code",
      "source": [
        "train_df = pd.read_csv('Train (1).csv')\n",
        "test_df = pd.read_csv('Test (1).csv')"
      ],
      "metadata": {
        "id": "n8oYOTbdcug3"
      },
      "execution_count": 5,
      "outputs": []
    },
    {
      "cell_type": "code",
      "source": [
        "train_df.info()"
      ],
      "metadata": {
        "colab": {
          "base_uri": "https://localhost:8080/"
        },
        "id": "89d5C1U1dGq2",
        "outputId": "87cdb9d6-3033-4304-be06-9b148ea605e0"
      },
      "execution_count": 41,
      "outputs": [
        {
          "output_type": "stream",
          "name": "stdout",
          "text": [
            "<class 'pandas.core.frame.DataFrame'>\n",
            "RangeIndex: 74005 entries, 0 to 74004\n",
            "Data columns (total 76 columns):\n",
            " #   Column                                                    Non-Null Count  Dtype  \n",
            "---  ------                                                    --------------  -----  \n",
            " 0   ID_LAT_LON_YEAR_WEEK                                      74005 non-null  object \n",
            " 1   latitude                                                  74005 non-null  float64\n",
            " 2   longitude                                                 74005 non-null  float64\n",
            " 3   year                                                      74005 non-null  int64  \n",
            " 4   week_no                                                   74005 non-null  int64  \n",
            " 5   SulphurDioxide_SO2_column_number_density                  72075 non-null  float64\n",
            " 6   SulphurDioxide_SO2_column_number_density_amf              72075 non-null  float64\n",
            " 7   SulphurDioxide_SO2_slant_column_number_density            72075 non-null  float64\n",
            " 8   SulphurDioxide_cloud_fraction                             72075 non-null  float64\n",
            " 9   SulphurDioxide_sensor_azimuth_angle                       72075 non-null  float64\n",
            " 10  SulphurDioxide_sensor_zenith_angle                        72075 non-null  float64\n",
            " 11  SulphurDioxide_solar_azimuth_angle                        72075 non-null  float64\n",
            " 12  SulphurDioxide_solar_zenith_angle                         72075 non-null  float64\n",
            " 13  SulphurDioxide_SO2_column_number_density_15km             72075 non-null  float64\n",
            " 14  CarbonMonoxide_CO_column_number_density                   73447 non-null  float64\n",
            " 15  CarbonMonoxide_H2O_column_number_density                  73447 non-null  float64\n",
            " 16  CarbonMonoxide_cloud_height                               73447 non-null  float64\n",
            " 17  CarbonMonoxide_sensor_altitude                            73447 non-null  float64\n",
            " 18  CarbonMonoxide_sensor_azimuth_angle                       73447 non-null  float64\n",
            " 19  CarbonMonoxide_sensor_zenith_angle                        73447 non-null  float64\n",
            " 20  CarbonMonoxide_solar_azimuth_angle                        73447 non-null  float64\n",
            " 21  CarbonMonoxide_solar_zenith_angle                         73447 non-null  float64\n",
            " 22  NitrogenDioxide_NO2_column_number_density                 72070 non-null  float64\n",
            " 23  NitrogenDioxide_tropospheric_NO2_column_number_density    72070 non-null  float64\n",
            " 24  NitrogenDioxide_stratospheric_NO2_column_number_density   72070 non-null  float64\n",
            " 25  NitrogenDioxide_NO2_slant_column_number_density           72070 non-null  float64\n",
            " 26  NitrogenDioxide_tropopause_pressure                       72070 non-null  float64\n",
            " 27  NitrogenDioxide_absorbing_aerosol_index                   72070 non-null  float64\n",
            " 28  NitrogenDioxide_cloud_fraction                            72070 non-null  float64\n",
            " 29  NitrogenDioxide_sensor_altitude                           72070 non-null  float64\n",
            " 30  NitrogenDioxide_sensor_azimuth_angle                      72070 non-null  float64\n",
            " 31  NitrogenDioxide_sensor_zenith_angle                       72070 non-null  float64\n",
            " 32  NitrogenDioxide_solar_azimuth_angle                       72070 non-null  float64\n",
            " 33  NitrogenDioxide_solar_zenith_angle                        72070 non-null  float64\n",
            " 34  Formaldehyde_tropospheric_HCHO_column_number_density      73176 non-null  float64\n",
            " 35  Formaldehyde_tropospheric_HCHO_column_number_density_amf  73176 non-null  float64\n",
            " 36  Formaldehyde_HCHO_slant_column_number_density             73176 non-null  float64\n",
            " 37  Formaldehyde_cloud_fraction                               73176 non-null  float64\n",
            " 38  Formaldehyde_solar_zenith_angle                           73176 non-null  float64\n",
            " 39  Formaldehyde_solar_azimuth_angle                          73176 non-null  float64\n",
            " 40  Formaldehyde_sensor_zenith_angle                          73176 non-null  float64\n",
            " 41  Formaldehyde_sensor_azimuth_angle                         73176 non-null  float64\n",
            " 42  UvAerosolIndex_absorbing_aerosol_index                    73796 non-null  float64\n",
            " 43  UvAerosolIndex_sensor_altitude                            73796 non-null  float64\n",
            " 44  UvAerosolIndex_sensor_azimuth_angle                       73796 non-null  float64\n",
            " 45  UvAerosolIndex_sensor_zenith_angle                        73796 non-null  float64\n",
            " 46  UvAerosolIndex_solar_azimuth_angle                        73796 non-null  float64\n",
            " 47  UvAerosolIndex_solar_zenith_angle                         73796 non-null  float64\n",
            " 48  Ozone_O3_column_number_density                            73800 non-null  float64\n",
            " 49  Ozone_O3_column_number_density_amf                        73800 non-null  float64\n",
            " 50  Ozone_O3_slant_column_number_density                      73800 non-null  float64\n",
            " 51  Ozone_O3_effective_temperature                            73800 non-null  float64\n",
            " 52  Ozone_cloud_fraction                                      73800 non-null  float64\n",
            " 53  Ozone_sensor_azimuth_angle                                73800 non-null  float64\n",
            " 54  Ozone_sensor_zenith_angle                                 73800 non-null  float64\n",
            " 55  Ozone_solar_azimuth_angle                                 73800 non-null  float64\n",
            " 56  Ozone_solar_zenith_angle                                  73800 non-null  float64\n",
            " 57  UvAerosolLayerHeight_aerosol_height                       4978 non-null   float64\n",
            " 58  UvAerosolLayerHeight_aerosol_pressure                     4978 non-null   float64\n",
            " 59  UvAerosolLayerHeight_aerosol_optical_depth                4978 non-null   float64\n",
            " 60  UvAerosolLayerHeight_sensor_zenith_angle                  4978 non-null   float64\n",
            " 61  UvAerosolLayerHeight_sensor_azimuth_angle                 4978 non-null   float64\n",
            " 62  UvAerosolLayerHeight_solar_azimuth_angle                  4978 non-null   float64\n",
            " 63  UvAerosolLayerHeight_solar_zenith_angle                   4978 non-null   float64\n",
            " 64  Cloud_cloud_fraction                                      71281 non-null  float64\n",
            " 65  Cloud_cloud_top_pressure                                  71281 non-null  float64\n",
            " 66  Cloud_cloud_top_height                                    71281 non-null  float64\n",
            " 67  Cloud_cloud_base_pressure                                 71281 non-null  float64\n",
            " 68  Cloud_cloud_base_height                                   71281 non-null  float64\n",
            " 69  Cloud_cloud_optical_depth                                 71281 non-null  float64\n",
            " 70  Cloud_surface_albedo                                      71281 non-null  float64\n",
            " 71  Cloud_sensor_azimuth_angle                                71281 non-null  float64\n",
            " 72  Cloud_sensor_zenith_angle                                 71281 non-null  float64\n",
            " 73  Cloud_solar_azimuth_angle                                 71281 non-null  float64\n",
            " 74  Cloud_solar_zenith_angle                                  71281 non-null  float64\n",
            " 75  emission                                                  74005 non-null  float64\n",
            "dtypes: float64(73), int64(2), object(1)\n",
            "memory usage: 42.9+ MB\n"
          ]
        }
      ]
    },
    {
      "cell_type": "code",
      "source": [
        "train_df.isnull().sum()"
      ],
      "metadata": {
        "colab": {
          "base_uri": "https://localhost:8080/"
        },
        "id": "37PeSf_1c1x9",
        "outputId": "dbe359c4-a706-402b-e6dc-170e105af2c7"
      },
      "execution_count": 12,
      "outputs": [
        {
          "output_type": "execute_result",
          "data": {
            "text/plain": [
              "ID_LAT_LON_YEAR_WEEK             0\n",
              "latitude                         0\n",
              "longitude                        0\n",
              "year                             0\n",
              "week_no                          0\n",
              "                              ... \n",
              "Cloud_sensor_azimuth_angle    2724\n",
              "Cloud_sensor_zenith_angle     2724\n",
              "Cloud_solar_azimuth_angle     2724\n",
              "Cloud_solar_zenith_angle      2724\n",
              "emission                         0\n",
              "Length: 76, dtype: int64"
            ]
          },
          "metadata": {},
          "execution_count": 12
        }
      ]
    },
    {
      "cell_type": "code",
      "source": [
        "train_df.duplicated().sum()"
      ],
      "metadata": {
        "colab": {
          "base_uri": "https://localhost:8080/"
        },
        "id": "COImKrUadBoS",
        "outputId": "e960cf8c-851d-4a35-8bd0-ede873315d97"
      },
      "execution_count": 13,
      "outputs": [
        {
          "output_type": "execute_result",
          "data": {
            "text/plain": [
              "0"
            ]
          },
          "metadata": {},
          "execution_count": 13
        }
      ]
    },
    {
      "cell_type": "code",
      "source": [
        "# Plot missing values in train set\n",
        "ax = train_df.isna().sum().sort_values(ascending = False)[:15][::-1].plot(kind = 'barh', figsize = (9, 10))\n",
        "plt.title('Percentage of Missing Values Per Column in Train Set', fontdict={'size':15})\n",
        "for p in ax.patches:\n",
        "    percentage ='{:,.0f}%'.format((p.get_width()/train_df.shape[0])*100)\n",
        "    width, height =p.get_width(),p.get_height()\n",
        "    x=p.get_x()+width+0.02\n",
        "    y=p.get_y()+height/2\n",
        "    ax.annotate(percentage,(x,y))"
      ],
      "metadata": {
        "colab": {
          "base_uri": "https://localhost:8080/",
          "height": 609
        },
        "id": "WfyC75NXdYwH",
        "outputId": "bd7b936c-c416-49b1-af5d-6a921e150f7a"
      },
      "execution_count": 42,
      "outputs": [
        {
          "output_type": "display_data",
          "data": {
            "text/plain": [
              "<Figure size 648x720 with 1 Axes>"
            ],
            "image/png": "[encoded data removed]"
          },
          "metadata": {
            "needs_background": "light"
          }
        }
      ]
    },
    {
      "cell_type": "markdown",
      "source": [
        "# Reducing Memory Function"
      ],
      "metadata": {
        "id": "bilUkDSJ0r5C"
      }
    },
    {
      "cell_type": "code",
      "source": [
        "def convert_types(df):\n",
        "    # Convert data types to reduce memory\n",
        "    for c in df:\n",
        "        col_type = str(df[c].dtypes)\n",
        "        numerics = ['int16', 'int32', 'int64', 'float16', 'float32', 'float64']\n",
        "        \n",
        "        # Convert objects to category\n",
        "        if col_type == 'object':\n",
        "            df[c] = df[c].astype('category')\n",
        "        \n",
        "        # numerics\n",
        "        elif col_type in numerics:\n",
        "            c_min = df[c].min()\n",
        "            c_max = df[c].max()\n",
        "            if col_type[:3] == 'int':\n",
        "                if c_min > np.iinfo(np.int8).min and c_max < np.iinfo(np.int8).max:\n",
        "                    df[c] = df[c].astype(np.int8)\n",
        "                elif c_min > np.iinfo(np.int16).min and c_max < np.iinfo(np.int16).max:\n",
        "                    df[c] = df[c].astype(np.int16)\n",
        "                elif c_min > np.iinfo(np.int32).min and c_max < np.iinfo(np.int32).max:\n",
        "                    df[c] = df[c].astype(np.int32)\n",
        "                elif c_min > np.iinfo(np.int64).min and c_max < np.iinfo(np.int64).max:\n",
        "                    df[c] = df[c].astype(np.int64)  \n",
        "            else:\n",
        "                if c_min > np.finfo(np.float16).min and c_max < np.finfo(np.float16).max:\n",
        "                    df[c] = df[c].astype(np.float16)\n",
        "                elif c_min > np.finfo(np.float32).min and c_max < np.finfo(np.float32).max:\n",
        "                    df[c] = df[c].astype(np.float32)\n",
        "                else:\n",
        "                    df[c] = df[c].astype(np.float64)  \n",
        "        \n",
        "    return df"
      ],
      "metadata": {
        "id": "2jRG1da5hi2q"
      },
      "execution_count": 3,
      "outputs": []
    },
    {
      "cell_type": "code",
      "source": [
        "#reducing memory of the train and test set\n",
        "train_df = convert_types(train_df)\n",
        "test_df = convert_types(test_df)"
      ],
      "metadata": {
        "id": "ExNOAlu109dq"
      },
      "execution_count": 8,
      "outputs": []
    },
    {
      "cell_type": "code",
      "source": [
        "#removing missing values greater than a set threshold\n",
        "def remove_nans(train,thresh) :\n",
        "  def nans_rate(train,col) :\n",
        "    return train[col].isna().sum() / train.shape[0]\n",
        "\n",
        "  for col in train.columns : \n",
        "    if nans_rate(train,col) >= thresh :\n",
        "      train.drop(col,axis=1,inplace=True)\n",
        "  return train"
      ],
      "metadata": {
        "id": "rh9Nyyw5hWMm"
      },
      "execution_count": 9,
      "outputs": []
    },
    {
      "cell_type": "code",
      "source": [
        "train_df = remove_nans(train_df,thresh=0.8)\n",
        "test_df = test_df[train_df.columns[:-1]]"
      ],
      "metadata": {
        "id": "hfSdB6QNiLmJ"
      },
      "execution_count": 10,
      "outputs": []
    },
    {
      "cell_type": "code",
      "source": [
        "cols_to_impute = ['Cloud_cloud_fraction', 'Cloud_cloud_optical_depth', 'Cloud_sensor_zenith_angle','Cloud_cloud_top_pressure','Cloud_cloud_base_pressure','Cloud_cloud_base_height','Cloud_cloud_top_height','Cloud_surface_albedo']\n",
        "\n",
        "# impute missing values with the mean\n",
        "train_df[cols_to_impute] = train_df[cols_to_impute].fillna(train_df[cols_to_impute].mean())"
      ],
      "metadata": {
        "id": "MbAJMk57i-7v"
      },
      "execution_count": 85,
      "outputs": []
    },
    {
      "cell_type": "code",
      "source": [
        "train_df = train_df.fillna(train_df.mean())"
      ],
      "metadata": {
        "colab": {
          "base_uri": "https://localhost:8080/"
        },
        "id": "QJ4ABhWJk5Qj",
        "outputId": "fecc8877-d8d3-4195-b9f0-7b114d8c5eac"
      },
      "execution_count": 162,
      "outputs": [
        {
          "output_type": "stream",
          "name": "stderr",
          "text": [
            "<ipython-input-162-987e9d6ebd2a>:1: FutureWarning: Dropping of nuisance columns in DataFrame reductions (with 'numeric_only=None') is deprecated; in a future version this will raise TypeError.  Select only valid columns before calling the reduction.\n",
            "  train_df = train_df.fillna(train_df.mean())\n"
          ]
        }
      ]
    },
    {
      "cell_type": "code",
      "source": [
        "print(train_df.shape)\n",
        "print(test_df.shape)"
      ],
      "metadata": {
        "colab": {
          "base_uri": "https://localhost:8080/"
        },
        "id": "KAfScDLLnKQh",
        "outputId": "fdbd94dc-5f47-4551-82b2-0c4f1646d05e"
      },
      "execution_count": 11,
      "outputs": [
        {
          "output_type": "stream",
          "name": "stdout",
          "text": [
            "(74005, 69)\n",
            "(28085, 68)\n"
          ]
        }
      ]
    },
    {
      "cell_type": "code",
      "source": [
        "train_df['location'] = [str(x) + '_' + str(y) for x, y in zip(train_df.latitude, train_df.longitude)]\n",
        "\n",
        "# Filter based on one location\n",
        "example_loc = train_df[train_df.location == '-23.73_28.77']\n",
        "\n",
        "# Calculate rolling mean for SulphurDioxide_SO2_column_number_density_amf with a window of 2 weeks\n",
        "rolling_mean = example_loc['SulphurDioxide_SO2_column_number_density_amf'].rolling(window = 2).mean()\n",
        "\n",
        "# Feature engineering train\n",
        "train_roll_mean = train_df.sort_values(by = ['location', 'year', 'week_no']).groupby(['location'])[train_df.columns[5:].tolist()].rolling(window = 2).mean().reset_index()\n",
        "train_roll_mean.drop(['level_1', 'emission', 'location'], axis = 1, inplace = True)\n",
        "train_roll_mean.columns = [col + '_roll_mean' for col in train_roll_mean.columns]"
      ],
      "metadata": {
        "id": "1EqwIERH1Vfj"
      },
      "execution_count": 163,
      "outputs": []
    },
    {
      "cell_type": "code",
      "source": [
        "train_roll_mean.head()"
      ],
      "metadata": {
        "colab": {
          "base_uri": "https://localhost:8080/",
          "height": 300
        },
        "id": "j1rFG1yS2F6a",
        "outputId": "6a17f42d-e359-4e42-9bda-71de48da6840"
      },
      "execution_count": 164,
      "outputs": [
        {
          "output_type": "execute_result",
          "data": {
            "text/plain": [
              "   SulphurDioxide_SO2_column_number_density_roll_mean  \\\n",
              "0                                                NaN    \n",
              "1                                          -0.000110    \n",
              "2                                           0.000043    \n",
              "3                                           0.000009    \n",
              "4                                          -0.000178    \n",
              "\n",
              "   SulphurDioxide_SO2_column_number_density_amf_roll_mean  \\\n",
              "0                                                NaN        \n",
              "1                                           0.836608        \n",
              "2                                           0.641295        \n",
              "3                                           0.694835        \n",
              "4                                           0.911796        \n",
              "\n",
              "   SulphurDioxide_SO2_slant_column_number_density_roll_mean  \\\n",
              "0                                                NaN          \n",
              "1                                          -0.000100          \n",
              "2                                           0.000012          \n",
              "3                                          -0.000019          \n",
              "4                                          -0.000146          \n",
              "\n",
              "   SulphurDioxide_cloud_fraction_roll_mean  \\\n",
              "0                                      NaN   \n",
              "1                                 0.120665   \n",
              "2                                 0.103777   \n",
              "3                                 0.147949   \n",
              "4                                 0.193445   \n",
              "\n",
              "   SulphurDioxide_sensor_azimuth_angle_roll_mean  \\\n",
              "0                                            NaN   \n",
              "1                                       1.693459   \n",
              "2                                     -13.385948   \n",
              "3                                     -28.140775   \n",
              "4                                      16.524428   \n",
              "\n",
              "   SulphurDioxide_sensor_zenith_angle_roll_mean  \\\n",
              "0                                           NaN   \n",
              "1                                     37.789164   \n",
              "2                                     52.846782   \n",
              "3                                     44.791620   \n",
              "4                                     37.339700   \n",
              "\n",
              "   SulphurDioxide_solar_azimuth_angle_roll_mean  \\\n",
              "0                                           NaN   \n",
              "1                                    -87.746208   \n",
              "2                                    -83.746759   \n",
              "3                                    -77.652041   \n",
              "4                                    -65.317669   \n",
              "\n",
              "   SulphurDioxide_solar_zenith_angle_roll_mean  \\\n",
              "0                                          NaN   \n",
              "1                                    21.980407   \n",
              "2                                    23.169268   \n",
              "3                                    24.530630   \n",
              "4                                    22.341699   \n",
              "\n",
              "   SulphurDioxide_SO2_column_number_density_15km_roll_mean  \\\n",
              "0                                                NaN         \n",
              "1                                      -4.893006e-05         \n",
              "2                                       1.937504e-08         \n",
              "3                                      -1.477187e-05         \n",
              "4                                      -6.871206e-05         \n",
              "\n",
              "   CarbonMonoxide_CO_column_number_density_roll_mean  ...  \\\n",
              "0                                                NaN  ...   \n",
              "1                                           0.023943  ...   \n",
              "2                                           0.023028  ...   \n",
              "3                                           0.023304  ...   \n",
              "4                                           0.024523  ...   \n",
              "\n",
              "   Cloud_cloud_top_pressure_roll_mean  Cloud_cloud_top_height_roll_mean  \\\n",
              "0                                 NaN                               NaN   \n",
              "1                        67339.232255                       2923.948277   \n",
              "2                        65071.221871                       2989.119103   \n",
              "3                        64430.413148                       2892.314172   \n",
              "4                        68163.889903                       2477.002215   \n",
              "\n",
              "   Cloud_cloud_base_pressure_roll_mean  Cloud_cloud_base_height_roll_mean  \\\n",
              "0                                  NaN                                NaN   \n",
              "1                         73729.746445                        2233.972124   \n",
              "2                         71780.273158                        2155.997752   \n",
              "3                         72962.216146                        2081.063349   \n",
              "4                         76372.791637                        1718.503402   \n",
              "\n",
              "   Cloud_cloud_optical_depth_roll_mean  Cloud_surface_albedo_roll_mean  \\\n",
              "0                                  NaN                             NaN   \n",
              "1                             9.140701                        0.245044   \n",
              "2                             6.225485                        0.228003   \n",
              "3                             8.244984                        0.264330   \n",
              "4                            17.818609                        0.285030   \n",
              "\n",
              "   Cloud_sensor_azimuth_angle_roll_mean  Cloud_sensor_zenith_angle_roll_mean  \\\n",
              "0                                   NaN                                  NaN   \n",
              "1                             40.384742                            38.662114   \n",
              "2                             75.986498                            47.516017   \n",
              "3                             33.810803                            61.167557   \n",
              "4                              3.993070                            51.144645   \n",
              "\n",
              "   Cloud_solar_azimuth_angle_roll_mean  Cloud_solar_zenith_angle_roll_mean  \n",
              "0                                  NaN                                 NaN  \n",
              "1                           -86.749784                           20.105273  \n",
              "2                           -77.745991                           14.707559  \n",
              "3                           -69.656094                           17.795747  \n",
              "4                           -64.468878                           22.633834  \n",
              "\n",
              "[5 rows x 63 columns]"
            ],
            "text/html": [
              "\n",
              "  <div id=\"df-7b0348a2-de82-4033-93ea-144eacede476\">\n",
              "    <div class=\"colab-df-container\">\n",
              "      <div>\n",
              "<style scoped>\n",
              "    .dataframe tbody tr th:only-of-type {\n",
              "        vertical-align: middle;\n",
              "    }\n",
              "\n",
              "    .dataframe tbody tr th {\n",
              "        vertical-align: top;\n",
              "    }\n",
              "\n",
              "    .dataframe thead th {\n",
              "        text-align: right;\n",
              "    }\n",
              "</style>\n",
              "<table border=\"1\" class=\"dataframe\">\n",
              "  <thead>\n",
              "    <tr style=\"text-align: right;\">\n",
              "      <th></th>\n",
              "      <th>SulphurDioxide_SO2_column_number_density_roll_mean</th>\n",
              "      <th>SulphurDioxide_SO2_column_number_density_amf_roll_mean</th>\n",
              "      <th>SulphurDioxide_SO2_slant_column_number_density_roll_mean</th>\n",
              "      <th>SulphurDioxide_cloud_fraction_roll_mean</th>\n",
              "      <th>SulphurDioxide_sensor_azimuth_angle_roll_mean</th>\n",
              "      <th>SulphurDioxide_sensor_zenith_angle_roll_mean</th>\n",
              "      <th>SulphurDioxide_solar_azimuth_angle_roll_mean</th>\n",
              "      <th>SulphurDioxide_solar_zenith_angle_roll_mean</th>\n",
              "      <th>SulphurDioxide_SO2_column_number_density_15km_roll_mean</th>\n",
              "      <th>CarbonMonoxide_CO_column_number_density_roll_mean</th>\n",
              "      <th>...</th>\n",
              "      <th>Cloud_cloud_top_pressure_roll_mean</th>\n",
              "      <th>Cloud_cloud_top_height_roll_mean</th>\n",
              "      <th>Cloud_cloud_base_pressure_roll_mean</th>\n",
              "      <th>Cloud_cloud_base_height_roll_mean</th>\n",
              "      <th>Cloud_cloud_optical_depth_roll_mean</th>\n",
              "      <th>Cloud_surface_albedo_roll_mean</th>\n",
              "      <th>Cloud_sensor_azimuth_angle_roll_mean</th>\n",
              "      <th>Cloud_sensor_zenith_angle_roll_mean</th>\n",
              "      <th>Cloud_solar_azimuth_angle_roll_mean</th>\n",
              "      <th>Cloud_solar_zenith_angle_roll_mean</th>\n",
              "    </tr>\n",
              "  </thead>\n",
              "  <tbody>\n",
              "    <tr>\n",
              "      <th>0</th>\n",
              "      <td>NaN</td>\n",
              "      <td>NaN</td>\n",
              "      <td>NaN</td>\n",
              "      <td>NaN</td>\n",
              "      <td>NaN</td>\n",
              "      <td>NaN</td>\n",
              "      <td>NaN</td>\n",
              "      <td>NaN</td>\n",
              "      <td>NaN</td>\n",
              "      <td>NaN</td>\n",
              "      <td>...</td>\n",
              "      <td>NaN</td>\n",
              "      <td>NaN</td>\n",
              "      <td>NaN</td>\n",
              "      <td>NaN</td>\n",
              "      <td>NaN</td>\n",
              "      <td>NaN</td>\n",
              "      <td>NaN</td>\n",
              "      <td>NaN</td>\n",
              "      <td>NaN</td>\n",
              "      <td>NaN</td>\n",
              "    </tr>\n",
              "    <tr>\n",
              "      <th>1</th>\n",
              "      <td>-0.000110</td>\n",
              "      <td>0.836608</td>\n",
              "      <td>-0.000100</td>\n",
              "      <td>0.120665</td>\n",
              "      <td>1.693459</td>\n",
              "      <td>37.789164</td>\n",
              "      <td>-87.746208</td>\n",
              "      <td>21.980407</td>\n",
              "      <td>-4.893006e-05</td>\n",
              "      <td>0.023943</td>\n",
              "      <td>...</td>\n",
              "      <td>67339.232255</td>\n",
              "      <td>2923.948277</td>\n",
              "      <td>73729.746445</td>\n",
              "      <td>2233.972124</td>\n",
              "      <td>9.140701</td>\n",
              "      <td>0.245044</td>\n",
              "      <td>40.384742</td>\n",
              "      <td>38.662114</td>\n",
              "      <td>-86.749784</td>\n",
              "      <td>20.105273</td>\n",
              "    </tr>\n",
              "    <tr>\n",
              "      <th>2</th>\n",
              "      <td>0.000043</td>\n",
              "      <td>0.641295</td>\n",
              "      <td>0.000012</td>\n",
              "      <td>0.103777</td>\n",
              "      <td>-13.385948</td>\n",
              "      <td>52.846782</td>\n",
              "      <td>-83.746759</td>\n",
              "      <td>23.169268</td>\n",
              "      <td>1.937504e-08</td>\n",
              "      <td>0.023028</td>\n",
              "      <td>...</td>\n",
              "      <td>65071.221871</td>\n",
              "      <td>2989.119103</td>\n",
              "      <td>71780.273158</td>\n",
              "      <td>2155.997752</td>\n",
              "      <td>6.225485</td>\n",
              "      <td>0.228003</td>\n",
              "      <td>75.986498</td>\n",
              "      <td>47.516017</td>\n",
              "      <td>-77.745991</td>\n",
              "      <td>14.707559</td>\n",
              "    </tr>\n",
              "    <tr>\n",
              "      <th>3</th>\n",
              "      <td>0.000009</td>\n",
              "      <td>0.694835</td>\n",
              "      <td>-0.000019</td>\n",
              "      <td>0.147949</td>\n",
              "      <td>-28.140775</td>\n",
              "      <td>44.791620</td>\n",
              "      <td>-77.652041</td>\n",
              "      <td>24.530630</td>\n",
              "      <td>-1.477187e-05</td>\n",
              "      <td>0.023304</td>\n",
              "      <td>...</td>\n",
              "      <td>64430.413148</td>\n",
              "      <td>2892.314172</td>\n",
              "      <td>72962.216146</td>\n",
              "      <td>2081.063349</td>\n",
              "      <td>8.244984</td>\n",
              "      <td>0.264330</td>\n",
              "      <td>33.810803</td>\n",
              "      <td>61.167557</td>\n",
              "      <td>-69.656094</td>\n",
              "      <td>17.795747</td>\n",
              "    </tr>\n",
              "    <tr>\n",
              "      <th>4</th>\n",
              "      <td>-0.000178</td>\n",
              "      <td>0.911796</td>\n",
              "      <td>-0.000146</td>\n",
              "      <td>0.193445</td>\n",
              "      <td>16.524428</td>\n",
              "      <td>37.339700</td>\n",
              "      <td>-65.317669</td>\n",
              "      <td>22.341699</td>\n",
              "      <td>-6.871206e-05</td>\n",
              "      <td>0.024523</td>\n",
              "      <td>...</td>\n",
              "      <td>68163.889903</td>\n",
              "      <td>2477.002215</td>\n",
              "      <td>76372.791637</td>\n",
              "      <td>1718.503402</td>\n",
              "      <td>17.818609</td>\n",
              "      <td>0.285030</td>\n",
              "      <td>3.993070</td>\n",
              "      <td>51.144645</td>\n",
              "      <td>-64.468878</td>\n",
              "      <td>22.633834</td>\n",
              "    </tr>\n",
              "  </tbody>\n",
              "</table>\n",
              "<p>5 rows × 63 columns</p>\n",
              "</div>\n",
              "      <button class=\"colab-df-convert\" onclick=\"convertToInteractive('df-7b0348a2-de82-4033-93ea-144eacede476')\"\n",
              "              title=\"Convert this dataframe to an interactive table.\"\n",
              "              style=\"display:none;\">\n",
              "        \n",
              "  <svg xmlns=\"http://www.w3.org/2000/svg\" height=\"24px\"viewBox=\"0 0 24 24\"\n",
              "       width=\"24px\">\n",
              "    <path d=\"M0 0h24v24H0V0z\" fill=\"none\"/>\n",
              "    <path d=\"M18.56 5.44l.94 2.06.94-2.06 2.06-.94-2.06-.94-.94-2.06-.94 2.06-2.06.94zm-11 1L8.5 8.5l.94-2.06 2.06-.94-2.06-.94L8.5 2.5l-.94 2.06-2.06.94zm10 10l.94 2.06.94-2.06 2.06-.94-2.06-.94-.94-2.06-.94 2.06-2.06.94z\"/><path d=\"M17.41 7.96l-1.37-1.37c-.4-.4-.92-.59-1.43-.59-.52 0-1.04.2-1.43.59L10.3 9.45l-7.72 7.72c-.78.78-.78 2.05 0 2.83L4 21.41c.39.39.9.59 1.41.59.51 0 1.02-.2 1.41-.59l7.78-7.78 2.81-2.81c.8-.78.8-2.07 0-2.86zM5.41 20L4 18.59l7.72-7.72 1.47 1.35L5.41 20z\"/>\n",
              "  </svg>\n",
              "      </button>\n",
              "      \n",
              "  <style>\n",
              "    .colab-df-container {\n",
              "      display:flex;\n",
              "      flex-wrap:wrap;\n",
              "      gap: 12px;\n",
              "    }\n",
              "\n",
              "    .colab-df-convert {\n",
              "      background-color: #E8F0FE;\n",
              "      border: none;\n",
              "      border-radius: 50%;\n",
              "      cursor: pointer;\n",
              "      display: none;\n",
              "      fill: #1967D2;\n",
              "      height: 32px;\n",
              "      padding: 0 0 0 0;\n",
              "      width: 32px;\n",
              "    }\n",
              "\n",
              "    .colab-df-convert:hover {\n",
              "      background-color: #E2EBFA;\n",
              "      box-shadow: 0px 1px 2px rgba(60, 64, 67, 0.3), 0px 1px 3px 1px rgba(60, 64, 67, 0.15);\n",
              "      fill: #174EA6;\n",
              "    }\n",
              "\n",
              "    [theme=dark] .colab-df-convert {\n",
              "      background-color: #3B4455;\n",
              "      fill: #D2E3FC;\n",
              "    }\n",
              "\n",
              "    [theme=dark] .colab-df-convert:hover {\n",
              "      background-color: #434B5C;\n",
              "      box-shadow: 0px 1px 3px 1px rgba(0, 0, 0, 0.15);\n",
              "      filter: drop-shadow(0px 1px 2px rgba(0, 0, 0, 0.3));\n",
              "      fill: #FFFFFF;\n",
              "    }\n",
              "  </style>\n",
              "\n",
              "      <script>\n",
              "        const buttonEl =\n",
              "          document.querySelector('#df-7b0348a2-de82-4033-93ea-144eacede476 button.colab-df-convert');\n",
              "        buttonEl.style.display =\n",
              "          google.colab.kernel.accessAllowed ? 'block' : 'none';\n",
              "\n",
              "        async function convertToInteractive(key) {\n",
              "          const element = document.querySelector('#df-7b0348a2-de82-4033-93ea-144eacede476');\n",
              "          const dataTable =\n",
              "            await google.colab.kernel.invokeFunction('convertToInteractive',\n",
              "                                                     [key], {});\n",
              "          if (!dataTable) return;\n",
              "\n",
              "          const docLinkHtml = 'Like what you see? Visit the ' +\n",
              "            '<a target=\"_blank\" href=https://colab.research.google.com/notebooks/data_table.ipynb>data table notebook</a>'\n",
              "            + ' to learn more about interactive tables.';\n",
              "          element.innerHTML = '';\n",
              "          dataTable['output_type'] = 'display_data';\n",
              "          await google.colab.output.renderOutput(dataTable, element);\n",
              "          const docLink = document.createElement('div');\n",
              "          docLink.innerHTML = docLinkHtml;\n",
              "          element.appendChild(docLink);\n",
              "        }\n",
              "      </script>\n",
              "    </div>\n",
              "  </div>\n",
              "  "
            ]
          },
          "metadata": {},
          "execution_count": 164
        }
      ]
    },
    {
      "cell_type": "code",
      "source": [
        "# Feature engineering test\n",
        "test = pd.read_csv('Test (1).csv')\n",
        "test.latitude, test.longitude = round(test.latitude, 2), round(test.longitude, 2)\n",
        "test['location'] = [str(x) + '_' + str(y) for x, y in zip(test.latitude, test.longitude)]\n",
        "test_roll_mean = test.sort_values(by = ['location', 'year', 'week_no']).groupby(['location'])[test.columns[5:].tolist()].rolling(window = 2).mean().reset_index()\n",
        "test_roll_mean.drop(['level_1', 'location'], axis = 1, inplace = True)\n",
        "test_roll_mean.columns =  [col + '_roll_mean' for col in test_roll_mean.columns]\n",
        "test_roll_mean.head()"
      ],
      "metadata": {
        "colab": {
          "base_uri": "https://localhost:8080/",
          "height": 300
        },
        "id": "ETnfAj5n2Spy",
        "outputId": "e9a9d500-8d96-4b75-88a4-dce3e0f5089a"
      },
      "execution_count": 165,
      "outputs": [
        {
          "output_type": "execute_result",
          "data": {
            "text/plain": [
              "   SulphurDioxide_SO2_column_number_density_roll_mean  \\\n",
              "0                                                NaN    \n",
              "1                                           0.000129    \n",
              "2                                           0.000120    \n",
              "3                                           0.000271    \n",
              "4                                           0.000338    \n",
              "\n",
              "   SulphurDioxide_SO2_column_number_density_amf_roll_mean  \\\n",
              "0                                                NaN        \n",
              "1                                           0.438820        \n",
              "2                                           0.568128        \n",
              "3                                           0.573770        \n",
              "4                                           0.608749        \n",
              "\n",
              "   SulphurDioxide_SO2_slant_column_number_density_roll_mean  \\\n",
              "0                                                NaN          \n",
              "1                                           0.000048          \n",
              "2                                           0.000053          \n",
              "3                                           0.000107          \n",
              "4                                           0.000156          \n",
              "\n",
              "   SulphurDioxide_cloud_fraction_roll_mean  \\\n",
              "0                                      NaN   \n",
              "1                                 0.094695   \n",
              "2                                 0.094655   \n",
              "3                                 0.122802   \n",
              "4                                 0.146268   \n",
              "\n",
              "   SulphurDioxide_sensor_azimuth_angle_roll_mean  \\\n",
              "0                                            NaN   \n",
              "1                                     -49.026000   \n",
              "2                                      -0.520018   \n",
              "3                                      -2.874843   \n",
              "4                                      -8.862492   \n",
              "\n",
              "   SulphurDioxide_sensor_zenith_angle_roll_mean  \\\n",
              "0                                           NaN   \n",
              "1                                     55.935104   \n",
              "2                                     44.992116   \n",
              "3                                     47.106180   \n",
              "4                                     49.323300   \n",
              "\n",
              "   SulphurDioxide_solar_azimuth_angle_roll_mean  \\\n",
              "0                                           NaN   \n",
              "1                                    -92.364110   \n",
              "2                                    -88.070204   \n",
              "3                                    -82.843573   \n",
              "4                                    -77.793343   \n",
              "\n",
              "   SulphurDioxide_solar_zenith_angle_roll_mean  \\\n",
              "0                                          NaN   \n",
              "1                                    26.771698   \n",
              "2                                    21.958601   \n",
              "3                                    22.253363   \n",
              "4                                    22.962163   \n",
              "\n",
              "   SulphurDioxide_SO2_column_number_density_15km_roll_mean  \\\n",
              "0                                                NaN         \n",
              "1                                           0.000020         \n",
              "2                                           0.000022         \n",
              "3                                           0.000044         \n",
              "4                                           0.000066         \n",
              "\n",
              "   CarbonMonoxide_CO_column_number_density_roll_mean  ...  \\\n",
              "0                                                NaN  ...   \n",
              "1                                           0.025489  ...   \n",
              "2                                           0.025030  ...   \n",
              "3                                           0.023687  ...   \n",
              "4                                           0.022966  ...   \n",
              "\n",
              "   Cloud_cloud_top_pressure_roll_mean  Cloud_cloud_top_height_roll_mean  \\\n",
              "0                                 NaN                               NaN   \n",
              "1                        79559.852761                       1581.442797   \n",
              "2                        81572.572154                       1282.791996   \n",
              "3                        70029.205187                       2759.192458   \n",
              "4                        69815.083489                       2791.479253   \n",
              "\n",
              "   Cloud_cloud_base_pressure_roll_mean  Cloud_cloud_base_height_roll_mean  \\\n",
              "0                                  NaN                                NaN   \n",
              "1                         85797.362245                        1244.571120   \n",
              "2                         87845.400932                         966.944666   \n",
              "3                         76436.591607                        2217.600819   \n",
              "4                         75984.387202                        2275.478810   \n",
              "\n",
              "   Cloud_cloud_optical_depth_roll_mean  Cloud_surface_albedo_roll_mean  \\\n",
              "0                                  NaN                             NaN   \n",
              "1                             7.992071                        0.259796   \n",
              "2                             6.034695                        0.248807   \n",
              "3                             6.526499                        0.270112   \n",
              "4                             9.021939                        0.281553   \n",
              "\n",
              "   Cloud_sensor_azimuth_angle_roll_mean  Cloud_sensor_zenith_angle_roll_mean  \\\n",
              "0                                   NaN                                  NaN   \n",
              "1                             17.630362                            45.737880   \n",
              "2                             71.207042                            49.737372   \n",
              "3                             32.449978                            51.013410   \n",
              "4                            -12.158872                            55.848501   \n",
              "\n",
              "   Cloud_solar_azimuth_angle_roll_mean  Cloud_solar_zenith_angle_roll_mean  \n",
              "0                                  NaN                                 NaN  \n",
              "1                           -89.109364                           18.387366  \n",
              "2                           -84.134505                           14.844741  \n",
              "3                           -80.515631                           19.533481  \n",
              "4                           -77.192182                           22.996102  \n",
              "\n",
              "[5 rows x 70 columns]"
            ],
            "text/html": [
              "\n",
              "  <div id=\"df-d107f563-bf65-4aaf-97ba-7223985c68c5\">\n",
              "    <div class=\"colab-df-container\">\n",
              "      <div>\n",
              "<style scoped>\n",
              "    .dataframe tbody tr th:only-of-type {\n",
              "        vertical-align: middle;\n",
              "    }\n",
              "\n",
              "    .dataframe tbody tr th {\n",
              "        vertical-align: top;\n",
              "    }\n",
              "\n",
              "    .dataframe thead th {\n",
              "        text-align: right;\n",
              "    }\n",
              "</style>\n",
              "<table border=\"1\" class=\"dataframe\">\n",
              "  <thead>\n",
              "    <tr style=\"text-align: right;\">\n",
              "      <th></th>\n",
              "      <th>SulphurDioxide_SO2_column_number_density_roll_mean</th>\n",
              "      <th>SulphurDioxide_SO2_column_number_density_amf_roll_mean</th>\n",
              "      <th>SulphurDioxide_SO2_slant_column_number_density_roll_mean</th>\n",
              "      <th>SulphurDioxide_cloud_fraction_roll_mean</th>\n",
              "      <th>SulphurDioxide_sensor_azimuth_angle_roll_mean</th>\n",
              "      <th>SulphurDioxide_sensor_zenith_angle_roll_mean</th>\n",
              "      <th>SulphurDioxide_solar_azimuth_angle_roll_mean</th>\n",
              "      <th>SulphurDioxide_solar_zenith_angle_roll_mean</th>\n",
              "      <th>SulphurDioxide_SO2_column_number_density_15km_roll_mean</th>\n",
              "      <th>CarbonMonoxide_CO_column_number_density_roll_mean</th>\n",
              "      <th>...</th>\n",
              "      <th>Cloud_cloud_top_pressure_roll_mean</th>\n",
              "      <th>Cloud_cloud_top_height_roll_mean</th>\n",
              "      <th>Cloud_cloud_base_pressure_roll_mean</th>\n",
              "      <th>Cloud_cloud_base_height_roll_mean</th>\n",
              "      <th>Cloud_cloud_optical_depth_roll_mean</th>\n",
              "      <th>Cloud_surface_albedo_roll_mean</th>\n",
              "      <th>Cloud_sensor_azimuth_angle_roll_mean</th>\n",
              "      <th>Cloud_sensor_zenith_angle_roll_mean</th>\n",
              "      <th>Cloud_solar_azimuth_angle_roll_mean</th>\n",
              "      <th>Cloud_solar_zenith_angle_roll_mean</th>\n",
              "    </tr>\n",
              "  </thead>\n",
              "  <tbody>\n",
              "    <tr>\n",
              "      <th>0</th>\n",
              "      <td>NaN</td>\n",
              "      <td>NaN</td>\n",
              "      <td>NaN</td>\n",
              "      <td>NaN</td>\n",
              "      <td>NaN</td>\n",
              "      <td>NaN</td>\n",
              "      <td>NaN</td>\n",
              "      <td>NaN</td>\n",
              "      <td>NaN</td>\n",
              "      <td>NaN</td>\n",
              "      <td>...</td>\n",
              "      <td>NaN</td>\n",
              "      <td>NaN</td>\n",
              "      <td>NaN</td>\n",
              "      <td>NaN</td>\n",
              "      <td>NaN</td>\n",
              "      <td>NaN</td>\n",
              "      <td>NaN</td>\n",
              "      <td>NaN</td>\n",
              "      <td>NaN</td>\n",
              "      <td>NaN</td>\n",
              "    </tr>\n",
              "    <tr>\n",
              "      <th>1</th>\n",
              "      <td>0.000129</td>\n",
              "      <td>0.438820</td>\n",
              "      <td>0.000048</td>\n",
              "      <td>0.094695</td>\n",
              "      <td>-49.026000</td>\n",
              "      <td>55.935104</td>\n",
              "      <td>-92.364110</td>\n",
              "      <td>26.771698</td>\n",
              "      <td>0.000020</td>\n",
              "      <td>0.025489</td>\n",
              "      <td>...</td>\n",
              "      <td>79559.852761</td>\n",
              "      <td>1581.442797</td>\n",
              "      <td>85797.362245</td>\n",
              "      <td>1244.571120</td>\n",
              "      <td>7.992071</td>\n",
              "      <td>0.259796</td>\n",
              "      <td>17.630362</td>\n",
              "      <td>45.737880</td>\n",
              "      <td>-89.109364</td>\n",
              "      <td>18.387366</td>\n",
              "    </tr>\n",
              "    <tr>\n",
              "      <th>2</th>\n",
              "      <td>0.000120</td>\n",
              "      <td>0.568128</td>\n",
              "      <td>0.000053</td>\n",
              "      <td>0.094655</td>\n",
              "      <td>-0.520018</td>\n",
              "      <td>44.992116</td>\n",
              "      <td>-88.070204</td>\n",
              "      <td>21.958601</td>\n",
              "      <td>0.000022</td>\n",
              "      <td>0.025030</td>\n",
              "      <td>...</td>\n",
              "      <td>81572.572154</td>\n",
              "      <td>1282.791996</td>\n",
              "      <td>87845.400932</td>\n",
              "      <td>966.944666</td>\n",
              "      <td>6.034695</td>\n",
              "      <td>0.248807</td>\n",
              "      <td>71.207042</td>\n",
              "      <td>49.737372</td>\n",
              "      <td>-84.134505</td>\n",
              "      <td>14.844741</td>\n",
              "    </tr>\n",
              "    <tr>\n",
              "      <th>3</th>\n",
              "      <td>0.000271</td>\n",
              "      <td>0.573770</td>\n",
              "      <td>0.000107</td>\n",
              "      <td>0.122802</td>\n",
              "      <td>-2.874843</td>\n",
              "      <td>47.106180</td>\n",
              "      <td>-82.843573</td>\n",
              "      <td>22.253363</td>\n",
              "      <td>0.000044</td>\n",
              "      <td>0.023687</td>\n",
              "      <td>...</td>\n",
              "      <td>70029.205187</td>\n",
              "      <td>2759.192458</td>\n",
              "      <td>76436.591607</td>\n",
              "      <td>2217.600819</td>\n",
              "      <td>6.526499</td>\n",
              "      <td>0.270112</td>\n",
              "      <td>32.449978</td>\n",
              "      <td>51.013410</td>\n",
              "      <td>-80.515631</td>\n",
              "      <td>19.533481</td>\n",
              "    </tr>\n",
              "    <tr>\n",
              "      <th>4</th>\n",
              "      <td>0.000338</td>\n",
              "      <td>0.608749</td>\n",
              "      <td>0.000156</td>\n",
              "      <td>0.146268</td>\n",
              "      <td>-8.862492</td>\n",
              "      <td>49.323300</td>\n",
              "      <td>-77.793343</td>\n",
              "      <td>22.962163</td>\n",
              "      <td>0.000066</td>\n",
              "      <td>0.022966</td>\n",
              "      <td>...</td>\n",
              "      <td>69815.083489</td>\n",
              "      <td>2791.479253</td>\n",
              "      <td>75984.387202</td>\n",
              "      <td>2275.478810</td>\n",
              "      <td>9.021939</td>\n",
              "      <td>0.281553</td>\n",
              "      <td>-12.158872</td>\n",
              "      <td>55.848501</td>\n",
              "      <td>-77.192182</td>\n",
              "      <td>22.996102</td>\n",
              "    </tr>\n",
              "  </tbody>\n",
              "</table>\n",
              "<p>5 rows × 70 columns</p>\n",
              "</div>\n",
              "      <button class=\"colab-df-convert\" onclick=\"convertToInteractive('df-d107f563-bf65-4aaf-97ba-7223985c68c5')\"\n",
              "              title=\"Convert this dataframe to an interactive table.\"\n",
              "              style=\"display:none;\">\n",
              "        \n",
              "  <svg xmlns=\"http://www.w3.org/2000/svg\" height=\"24px\"viewBox=\"0 0 24 24\"\n",
              "       width=\"24px\">\n",
              "    <path d=\"M0 0h24v24H0V0z\" fill=\"none\"/>\n",
              "    <path d=\"M18.56 5.44l.94 2.06.94-2.06 2.06-.94-2.06-.94-.94-2.06-.94 2.06-2.06.94zm-11 1L8.5 8.5l.94-2.06 2.06-.94-2.06-.94L8.5 2.5l-.94 2.06-2.06.94zm10 10l.94 2.06.94-2.06 2.06-.94-2.06-.94-.94-2.06-.94 2.06-2.06.94z\"/><path d=\"M17.41 7.96l-1.37-1.37c-.4-.4-.92-.59-1.43-.59-.52 0-1.04.2-1.43.59L10.3 9.45l-7.72 7.72c-.78.78-.78 2.05 0 2.83L4 21.41c.39.39.9.59 1.41.59.51 0 1.02-.2 1.41-.59l7.78-7.78 2.81-2.81c.8-.78.8-2.07 0-2.86zM5.41 20L4 18.59l7.72-7.72 1.47 1.35L5.41 20z\"/>\n",
              "  </svg>\n",
              "      </button>\n",
              "      \n",
              "  <style>\n",
              "    .colab-df-container {\n",
              "      display:flex;\n",
              "      flex-wrap:wrap;\n",
              "      gap: 12px;\n",
              "    }\n",
              "\n",
              "    .colab-df-convert {\n",
              "      background-color: #E8F0FE;\n",
              "      border: none;\n",
              "      border-radius: 50%;\n",
              "      cursor: pointer;\n",
              "      display: none;\n",
              "      fill: #1967D2;\n",
              "      height: 32px;\n",
              "      padding: 0 0 0 0;\n",
              "      width: 32px;\n",
              "    }\n",
              "\n",
              "    .colab-df-convert:hover {\n",
              "      background-color: #E2EBFA;\n",
              "      box-shadow: 0px 1px 2px rgba(60, 64, 67, 0.3), 0px 1px 3px 1px rgba(60, 64, 67, 0.15);\n",
              "      fill: #174EA6;\n",
              "    }\n",
              "\n",
              "    [theme=dark] .colab-df-convert {\n",
              "      background-color: #3B4455;\n",
              "      fill: #D2E3FC;\n",
              "    }\n",
              "\n",
              "    [theme=dark] .colab-df-convert:hover {\n",
              "      background-color: #434B5C;\n",
              "      box-shadow: 0px 1px 3px 1px rgba(0, 0, 0, 0.15);\n",
              "      filter: drop-shadow(0px 1px 2px rgba(0, 0, 0, 0.3));\n",
              "      fill: #FFFFFF;\n",
              "    }\n",
              "  </style>\n",
              "\n",
              "      <script>\n",
              "        const buttonEl =\n",
              "          document.querySelector('#df-d107f563-bf65-4aaf-97ba-7223985c68c5 button.colab-df-convert');\n",
              "        buttonEl.style.display =\n",
              "          google.colab.kernel.accessAllowed ? 'block' : 'none';\n",
              "\n",
              "        async function convertToInteractive(key) {\n",
              "          const element = document.querySelector('#df-d107f563-bf65-4aaf-97ba-7223985c68c5');\n",
              "          const dataTable =\n",
              "            await google.colab.kernel.invokeFunction('convertToInteractive',\n",
              "                                                     [key], {});\n",
              "          if (!dataTable) return;\n",
              "\n",
              "          const docLinkHtml = 'Like what you see? Visit the ' +\n",
              "            '<a target=\"_blank\" href=https://colab.research.google.com/notebooks/data_table.ipynb>data table notebook</a>'\n",
              "            + ' to learn more about interactive tables.';\n",
              "          element.innerHTML = '';\n",
              "          dataTable['output_type'] = 'display_data';\n",
              "          await google.colab.output.renderOutput(dataTable, element);\n",
              "          const docLink = document.createElement('div');\n",
              "          docLink.innerHTML = docLinkHtml;\n",
              "          element.appendChild(docLink);\n",
              "        }\n",
              "      </script>\n",
              "    </div>\n",
              "  </div>\n",
              "  "
            ]
          },
          "metadata": {},
          "execution_count": 165
        }
      ]
    },
    {
      "cell_type": "code",
      "source": [
        "train_eng = train_df.sort_values(by = ['location', 'year', 'week_no'], ignore_index = True).merge(train_roll_mean, how = 'left',\n",
        "                                                                                               left_index=True, right_index=True)\n",
        "\n",
        "# Test\n",
        "test_eng = test.sort_values(by = ['location', 'year', 'week_no'], ignore_index = True).merge(test_roll_mean, how = 'left',\n",
        "                                                                                               left_index=True, right_index=True)\n",
        "\n",
        "# Preview engineered test set\n",
        "test_eng.head()"
      ],
      "metadata": {
        "colab": {
          "base_uri": "https://localhost:8080/",
          "height": 300
        },
        "id": "aBDcRFV-2lJ-",
        "outputId": "3a4ecd8c-768d-4bc2-b8cb-d843e879822c"
      },
      "execution_count": 166,
      "outputs": [
        {
          "output_type": "execute_result",
          "data": {
            "text/plain": [
              "     ID_LAT_LON_YEAR_WEEK  latitude  longitude  year  week_no  \\\n",
              "0  ID_-23.53_27.47_2019_1    -23.53      27.47  2019        1   \n",
              "1  ID_-23.53_27.47_2019_2    -23.53      27.47  2019        2   \n",
              "2  ID_-23.53_27.47_2019_3    -23.53      27.47  2019        3   \n",
              "3  ID_-23.53_27.47_2019_4    -23.53      27.47  2019        4   \n",
              "4  ID_-23.53_27.47_2019_5    -23.53      27.47  2019        5   \n",
              "\n",
              "   SulphurDioxide_SO2_column_number_density  \\\n",
              "0                                  0.000077   \n",
              "1                                  0.000181   \n",
              "2                                  0.000059   \n",
              "3                                  0.000483   \n",
              "4                                  0.000193   \n",
              "\n",
              "   SulphurDioxide_SO2_column_number_density_amf  \\\n",
              "0                                      0.454468   \n",
              "1                                      0.423171   \n",
              "2                                      0.713085   \n",
              "3                                      0.434454   \n",
              "4                                      0.783044   \n",
              "\n",
              "   SulphurDioxide_SO2_slant_column_number_density  \\\n",
              "0                                        0.000034   \n",
              "1                                        0.000062   \n",
              "2                                        0.000043   \n",
              "3                                        0.000171   \n",
              "4                                        0.000141   \n",
              "\n",
              "   SulphurDioxide_cloud_fraction  SulphurDioxide_sensor_azimuth_angle  ...  \\\n",
              "0                       0.114291                           -80.286309  ...   \n",
              "1                       0.075100                           -17.765690  ...   \n",
              "2                       0.114210                            16.725653  ...   \n",
              "3                       0.131394                           -22.475340  ...   \n",
              "4                       0.161142                             4.750356  ...   \n",
              "\n",
              "   Cloud_cloud_top_pressure_roll_mean  Cloud_cloud_top_height_roll_mean  \\\n",
              "0                                 NaN                               NaN   \n",
              "1                        79559.852761                       1581.442797   \n",
              "2                        81572.572154                       1282.791996   \n",
              "3                        70029.205187                       2759.192458   \n",
              "4                        69815.083489                       2791.479253   \n",
              "\n",
              "   Cloud_cloud_base_pressure_roll_mean  Cloud_cloud_base_height_roll_mean  \\\n",
              "0                                  NaN                                NaN   \n",
              "1                         85797.362245                        1244.571120   \n",
              "2                         87845.400932                         966.944666   \n",
              "3                         76436.591607                        2217.600819   \n",
              "4                         75984.387202                        2275.478810   \n",
              "\n",
              "   Cloud_cloud_optical_depth_roll_mean  Cloud_surface_albedo_roll_mean  \\\n",
              "0                                  NaN                             NaN   \n",
              "1                             7.992071                        0.259796   \n",
              "2                             6.034695                        0.248807   \n",
              "3                             6.526499                        0.270112   \n",
              "4                             9.021939                        0.281553   \n",
              "\n",
              "   Cloud_sensor_azimuth_angle_roll_mean  Cloud_sensor_zenith_angle_roll_mean  \\\n",
              "0                                   NaN                                  NaN   \n",
              "1                             17.630362                            45.737880   \n",
              "2                             71.207042                            49.737372   \n",
              "3                             32.449978                            51.013410   \n",
              "4                            -12.158872                            55.848501   \n",
              "\n",
              "   Cloud_solar_azimuth_angle_roll_mean  Cloud_solar_zenith_angle_roll_mean  \n",
              "0                                  NaN                                 NaN  \n",
              "1                           -89.109364                           18.387366  \n",
              "2                           -84.134505                           14.844741  \n",
              "3                           -80.515631                           19.533481  \n",
              "4                           -77.192182                           22.996102  \n",
              "\n",
              "[5 rows x 146 columns]"
            ],
            "text/html": [
              "\n",
              "  <div id=\"df-acb65c77-6b1b-49a4-a143-53a91cbe2e16\">\n",
              "    <div class=\"colab-df-container\">\n",
              "      <div>\n",
              "<style scoped>\n",
              "    .dataframe tbody tr th:only-of-type {\n",
              "        vertical-align: middle;\n",
              "    }\n",
              "\n",
              "    .dataframe tbody tr th {\n",
              "        vertical-align: top;\n",
              "    }\n",
              "\n",
              "    .dataframe thead th {\n",
              "        text-align: right;\n",
              "    }\n",
              "</style>\n",
              "<table border=\"1\" class=\"dataframe\">\n",
              "  <thead>\n",
              "    <tr style=\"text-align: right;\">\n",
              "      <th></th>\n",
              "      <th>ID_LAT_LON_YEAR_WEEK</th>\n",
              "      <th>latitude</th>\n",
              "      <th>longitude</th>\n",
              "      <th>year</th>\n",
              "      <th>week_no</th>\n",
              "      <th>SulphurDioxide_SO2_column_number_density</th>\n",
              "      <th>SulphurDioxide_SO2_column_number_density_amf</th>\n",
              "      <th>SulphurDioxide_SO2_slant_column_number_density</th>\n",
              "      <th>SulphurDioxide_cloud_fraction</th>\n",
              "      <th>SulphurDioxide_sensor_azimuth_angle</th>\n",
              "      <th>...</th>\n",
              "      <th>Cloud_cloud_top_pressure_roll_mean</th>\n",
              "      <th>Cloud_cloud_top_height_roll_mean</th>\n",
              "      <th>Cloud_cloud_base_pressure_roll_mean</th>\n",
              "      <th>Cloud_cloud_base_height_roll_mean</th>\n",
              "      <th>Cloud_cloud_optical_depth_roll_mean</th>\n",
              "      <th>Cloud_surface_albedo_roll_mean</th>\n",
              "      <th>Cloud_sensor_azimuth_angle_roll_mean</th>\n",
              "      <th>Cloud_sensor_zenith_angle_roll_mean</th>\n",
              "      <th>Cloud_solar_azimuth_angle_roll_mean</th>\n",
              "      <th>Cloud_solar_zenith_angle_roll_mean</th>\n",
              "    </tr>\n",
              "  </thead>\n",
              "  <tbody>\n",
              "    <tr>\n",
              "      <th>0</th>\n",
              "      <td>ID_-23.53_27.47_2019_1</td>\n",
              "      <td>-23.53</td>\n",
              "      <td>27.47</td>\n",
              "      <td>2019</td>\n",
              "      <td>1</td>\n",
              "      <td>0.000077</td>\n",
              "      <td>0.454468</td>\n",
              "      <td>0.000034</td>\n",
              "      <td>0.114291</td>\n",
              "      <td>-80.286309</td>\n",
              "      <td>...</td>\n",
              "      <td>NaN</td>\n",
              "      <td>NaN</td>\n",
              "      <td>NaN</td>\n",
              "      <td>NaN</td>\n",
              "      <td>NaN</td>\n",
              "      <td>NaN</td>\n",
              "      <td>NaN</td>\n",
              "      <td>NaN</td>\n",
              "      <td>NaN</td>\n",
              "      <td>NaN</td>\n",
              "    </tr>\n",
              "    <tr>\n",
              "      <th>1</th>\n",
              "      <td>ID_-23.53_27.47_2019_2</td>\n",
              "      <td>-23.53</td>\n",
              "      <td>27.47</td>\n",
              "      <td>2019</td>\n",
              "      <td>2</td>\n",
              "      <td>0.000181</td>\n",
              "      <td>0.423171</td>\n",
              "      <td>0.000062</td>\n",
              "      <td>0.075100</td>\n",
              "      <td>-17.765690</td>\n",
              "      <td>...</td>\n",
              "      <td>79559.852761</td>\n",
              "      <td>1581.442797</td>\n",
              "      <td>85797.362245</td>\n",
              "      <td>1244.571120</td>\n",
              "      <td>7.992071</td>\n",
              "      <td>0.259796</td>\n",
              "      <td>17.630362</td>\n",
              "      <td>45.737880</td>\n",
              "      <td>-89.109364</td>\n",
              "      <td>18.387366</td>\n",
              "    </tr>\n",
              "    <tr>\n",
              "      <th>2</th>\n",
              "      <td>ID_-23.53_27.47_2019_3</td>\n",
              "      <td>-23.53</td>\n",
              "      <td>27.47</td>\n",
              "      <td>2019</td>\n",
              "      <td>3</td>\n",
              "      <td>0.000059</td>\n",
              "      <td>0.713085</td>\n",
              "      <td>0.000043</td>\n",
              "      <td>0.114210</td>\n",
              "      <td>16.725653</td>\n",
              "      <td>...</td>\n",
              "      <td>81572.572154</td>\n",
              "      <td>1282.791996</td>\n",
              "      <td>87845.400932</td>\n",
              "      <td>966.944666</td>\n",
              "      <td>6.034695</td>\n",
              "      <td>0.248807</td>\n",
              "      <td>71.207042</td>\n",
              "      <td>49.737372</td>\n",
              "      <td>-84.134505</td>\n",
              "      <td>14.844741</td>\n",
              "    </tr>\n",
              "    <tr>\n",
              "      <th>3</th>\n",
              "      <td>ID_-23.53_27.47_2019_4</td>\n",
              "      <td>-23.53</td>\n",
              "      <td>27.47</td>\n",
              "      <td>2019</td>\n",
              "      <td>4</td>\n",
              "      <td>0.000483</td>\n",
              "      <td>0.434454</td>\n",
              "      <td>0.000171</td>\n",
              "      <td>0.131394</td>\n",
              "      <td>-22.475340</td>\n",
              "      <td>...</td>\n",
              "      <td>70029.205187</td>\n",
              "      <td>2759.192458</td>\n",
              "      <td>76436.591607</td>\n",
              "      <td>2217.600819</td>\n",
              "      <td>6.526499</td>\n",
              "      <td>0.270112</td>\n",
              "      <td>32.449978</td>\n",
              "      <td>51.013410</td>\n",
              "      <td>-80.515631</td>\n",
              "      <td>19.533481</td>\n",
              "    </tr>\n",
              "    <tr>\n",
              "      <th>4</th>\n",
              "      <td>ID_-23.53_27.47_2019_5</td>\n",
              "      <td>-23.53</td>\n",
              "      <td>27.47</td>\n",
              "      <td>2019</td>\n",
              "      <td>5</td>\n",
              "      <td>0.000193</td>\n",
              "      <td>0.783044</td>\n",
              "      <td>0.000141</td>\n",
              "      <td>0.161142</td>\n",
              "      <td>4.750356</td>\n",
              "      <td>...</td>\n",
              "      <td>69815.083489</td>\n",
              "      <td>2791.479253</td>\n",
              "      <td>75984.387202</td>\n",
              "      <td>2275.478810</td>\n",
              "      <td>9.021939</td>\n",
              "      <td>0.281553</td>\n",
              "      <td>-12.158872</td>\n",
              "      <td>55.848501</td>\n",
              "      <td>-77.192182</td>\n",
              "      <td>22.996102</td>\n",
              "    </tr>\n",
              "  </tbody>\n",
              "</table>\n",
              "<p>5 rows × 146 columns</p>\n",
              "</div>\n",
              "      <button class=\"colab-df-convert\" onclick=\"convertToInteractive('df-acb65c77-6b1b-49a4-a143-53a91cbe2e16')\"\n",
              "              title=\"Convert this dataframe to an interactive table.\"\n",
              "              style=\"display:none;\">\n",
              "        \n",
              "  <svg xmlns=\"http://www.w3.org/2000/svg\" height=\"24px\"viewBox=\"0 0 24 24\"\n",
              "       width=\"24px\">\n",
              "    <path d=\"M0 0h24v24H0V0z\" fill=\"none\"/>\n",
              "    <path d=\"M18.56 5.44l.94 2.06.94-2.06 2.06-.94-2.06-.94-.94-2.06-.94 2.06-2.06.94zm-11 1L8.5 8.5l.94-2.06 2.06-.94-2.06-.94L8.5 2.5l-.94 2.06-2.06.94zm10 10l.94 2.06.94-2.06 2.06-.94-2.06-.94-.94-2.06-.94 2.06-2.06.94z\"/><path d=\"M17.41 7.96l-1.37-1.37c-.4-.4-.92-.59-1.43-.59-.52 0-1.04.2-1.43.59L10.3 9.45l-7.72 7.72c-.78.78-.78 2.05 0 2.83L4 21.41c.39.39.9.59 1.41.59.51 0 1.02-.2 1.41-.59l7.78-7.78 2.81-2.81c.8-.78.8-2.07 0-2.86zM5.41 20L4 18.59l7.72-7.72 1.47 1.35L5.41 20z\"/>\n",
              "  </svg>\n",
              "      </button>\n",
              "      \n",
              "  <style>\n",
              "    .colab-df-container {\n",
              "      display:flex;\n",
              "      flex-wrap:wrap;\n",
              "      gap: 12px;\n",
              "    }\n",
              "\n",
              "    .colab-df-convert {\n",
              "      background-color: #E8F0FE;\n",
              "      border: none;\n",
              "      border-radius: 50%;\n",
              "      cursor: pointer;\n",
              "      display: none;\n",
              "      fill: #1967D2;\n",
              "      height: 32px;\n",
              "      padding: 0 0 0 0;\n",
              "      width: 32px;\n",
              "    }\n",
              "\n",
              "    .colab-df-convert:hover {\n",
              "      background-color: #E2EBFA;\n",
              "      box-shadow: 0px 1px 2px rgba(60, 64, 67, 0.3), 0px 1px 3px 1px rgba(60, 64, 67, 0.15);\n",
              "      fill: #174EA6;\n",
              "    }\n",
              "\n",
              "    [theme=dark] .colab-df-convert {\n",
              "      background-color: #3B4455;\n",
              "      fill: #D2E3FC;\n",
              "    }\n",
              "\n",
              "    [theme=dark] .colab-df-convert:hover {\n",
              "      background-color: #434B5C;\n",
              "      box-shadow: 0px 1px 3px 1px rgba(0, 0, 0, 0.15);\n",
              "      filter: drop-shadow(0px 1px 2px rgba(0, 0, 0, 0.3));\n",
              "      fill: #FFFFFF;\n",
              "    }\n",
              "  </style>\n",
              "\n",
              "      <script>\n",
              "        const buttonEl =\n",
              "          document.querySelector('#df-acb65c77-6b1b-49a4-a143-53a91cbe2e16 button.colab-df-convert');\n",
              "        buttonEl.style.display =\n",
              "          google.colab.kernel.accessAllowed ? 'block' : 'none';\n",
              "\n",
              "        async function convertToInteractive(key) {\n",
              "          const element = document.querySelector('#df-acb65c77-6b1b-49a4-a143-53a91cbe2e16');\n",
              "          const dataTable =\n",
              "            await google.colab.kernel.invokeFunction('convertToInteractive',\n",
              "                                                     [key], {});\n",
              "          if (!dataTable) return;\n",
              "\n",
              "          const docLinkHtml = 'Like what you see? Visit the ' +\n",
              "            '<a target=\"_blank\" href=https://colab.research.google.com/notebooks/data_table.ipynb>data table notebook</a>'\n",
              "            + ' to learn more about interactive tables.';\n",
              "          element.innerHTML = '';\n",
              "          dataTable['output_type'] = 'display_data';\n",
              "          await google.colab.output.renderOutput(dataTable, element);\n",
              "          const docLink = document.createElement('div');\n",
              "          docLink.innerHTML = docLinkHtml;\n",
              "          element.appendChild(docLink);\n",
              "        }\n",
              "      </script>\n",
              "    </div>\n",
              "  </div>\n",
              "  "
            ]
          },
          "metadata": {},
          "execution_count": 166
        }
      ]
    },
    {
      "cell_type": "code",
      "source": [
        "X = train_eng.drop(['ID_LAT_LON_YEAR_WEEK', 'location', 'emission'], axis = 1).fillna(0)\n",
        "y = train_eng.emission"
      ],
      "metadata": {
        "id": "IVS3SvKundLa"
      },
      "execution_count": 167,
      "outputs": []
    },
    {
      "cell_type": "code",
      "source": [
        "X_train,X_test,y_train,y_test=train_test_split(X,y,test_size=0.3,random_state=1)"
      ],
      "metadata": {
        "id": "x5UkCY4FoGgU"
      },
      "execution_count": 168,
      "outputs": []
    },
    {
      "cell_type": "code",
      "source": [
        "y_train.head()"
      ],
      "metadata": {
        "colab": {
          "base_uri": "https://localhost:8080/"
        },
        "id": "aP1obVE57hmi",
        "outputId": "1a09b7ec-488d-4557-837a-78b1a411224f"
      },
      "execution_count": 127,
      "outputs": [
        {
          "output_type": "execute_result",
          "data": {
            "text/plain": [
              "928      1620.52330\n",
              "49596     247.76147\n",
              "11859     867.04660\n",
              "4516      925.04900\n",
              "71639    7144.56900\n",
              "Name: emission, dtype: float64"
            ]
          },
          "metadata": {},
          "execution_count": 127
        }
      ]
    },
    {
      "cell_type": "code",
      "source": [
        "\n",
        "#function to calculate model performance using Rsquared and RMSE\n",
        "import numpy as np\n",
        "from sklearn.metrics import r2_score, mean_squared_error\n",
        "\n",
        "def evaluate_predictions(y_true, y_pred):\n",
        "    r2 = r2_score(y_true, y_pred)\n",
        "    rmse = np.sqrt(mean_squared_error(y_true, y_pred))\n",
        "    return r2, rmse"
      ],
      "metadata": {
        "id": "jaEojUFiojU3"
      },
      "execution_count": 139,
      "outputs": []
    },
    {
      "cell_type": "code",
      "source": [
        "from sklearn.model_selection import cross_val_score, KFold\n",
        "print('Train Shape:',X_train.shape)\n",
        "print('Test Shape:',X_test.shape)"
      ],
      "metadata": {
        "colab": {
          "base_uri": "https://localhost:8080/"
        },
        "id": "tTJUopxQo1Yp",
        "outputId": "d09cdaa3-eb9e-4742-dfbb-25f5d3d38517"
      },
      "execution_count": 140,
      "outputs": [
        {
          "output_type": "stream",
          "name": "stdout",
          "text": [
            "Train Shape: (51803, 144)\n",
            "Test Shape: (22202, 144)\n"
          ]
        }
      ]
    },
    {
      "cell_type": "code",
      "source": [
        "from sklearn.preprocessing import MinMaxScaler\n",
        "scaler = MinMaxScaler()\n",
        "x_train_scaled = scaler.fit_transform(X_train)\n",
        "x_test_scaled = scaler.transform(X_test)"
      ],
      "metadata": {
        "id": "jQQl2WubqYmo"
      },
      "execution_count": 71,
      "outputs": []
    },
    {
      "cell_type": "code",
      "source": [
        "from sklearn.ensemble import RandomForestRegressor,BaggingRegressor\n",
        "# Random Forest Regressor\n",
        "regressor = RandomForestRegressor(n_estimators = 2000,max_depth=2)\n",
        "\n",
        "# Fitting the model\n",
        "regressor.fit(x_train_scaled, y_train)\n",
        "\n",
        "# Make predictions on the test data\n",
        "y_pred = regressor.predict(x_test_scaled)\n",
        "# Calculate the RMSE and R-squared on the testing data\n",
        "rmse = np.sqrt(mean_squared_error(y_test, y_pred))\n",
        "r2 = r2_score(y_test, y_pred)\n",
        "\n",
        "# Print the results\n",
        "print(\"RMSE: \", rmse)\n",
        "print(\"R-squared: \", r2)"
      ],
      "metadata": {
        "colab": {
          "base_uri": "https://localhost:8080/"
        },
        "id": "eCdC-eVxqHUh",
        "outputId": "27fab52d-4364-49e1-d060-a4cae6699f1c"
      },
      "execution_count": 73,
      "outputs": [
        {
          "output_type": "stream",
          "name": "stdout",
          "text": [
            "RMSE:  47979.77861758345\n",
            "R-squared:  0.10690579855044968\n"
          ]
        }
      ]
    },
    {
      "cell_type": "code",
      "source": [
        "import xgboost as xgb\n",
        "\n",
        "xgb_model = xgb.XGBRegressor(objective='reg:squarederror', n_estimators=100, learning_rate=0.1, max_depth=3, random_state=1)\n",
        "#fitting the model\n",
        "xgb_model.fit(X_train, y_train)\n",
        "# Make predictions on the test data\n",
        "\n",
        "y_pred = xgb_model.predict(X_test)\n",
        "# Calculate the RMSE and R-squared on the testing data\n",
        "rmse = np.sqrt(mean_squared_error(y_test, y_pred))\n",
        "r2 = r2_score(y_test, y_pred)\n",
        "\n",
        "# Print the results\n",
        "print(\"RMSE: \", rmse)\n",
        "print(\"R-squared: \", r2)\n",
        "     "
      ],
      "metadata": {
        "colab": {
          "base_uri": "https://localhost:8080/"
        },
        "id": "xx-5uNpcqwYP",
        "outputId": "85b5de53-5906-4415-d365-e54288e86a21"
      },
      "execution_count": 141,
      "outputs": [
        {
          "output_type": "stream",
          "name": "stdout",
          "text": [
            "RMSE:  34099.3129843097\n",
            "R-squared:  0.6031591362168134\n"
          ]
        }
      ]
    },
    {
      "cell_type": "code",
      "source": [
        "#fitting lightGBM\n",
        "import lightgbm as lgb\n",
        "\n",
        "# Define the dataset format for LightGBM\n",
        "train_data = lgb.Dataset(X_train, label=y_train)\n",
        "\n",
        "# Set the hyperparameters for the model\n",
        "params = {\n",
        "    'objective': 'regression',\n",
        "    'boosting_type': 'gbdt',\n",
        "    'metric': 'mae',\n",
        "    'num_leaves': 31,\n",
        "    'learning_rate': 0.1,\n",
        "    'feature_fraction': 0.9,\n",
        "    'bagging_fraction': 0.8,\n",
        "    'bagging_freq': 5,\n",
        "    'random_state': 1\n",
        "}\n",
        "#training the model\n",
        "lgb_model = lgb.train(params, train_data, num_boost_round=100)\n",
        "\n",
        "y_pred = lgb_model.predict(X_test)\n",
        "# Calculate the RMSE and R-squared on the testing data\n",
        "rmse = np.sqrt(mean_squared_error(y_test, y_pred))\n",
        "r2 = r2_score(y_test, y_pred)\n",
        "\n",
        "# Print the results\n",
        "print(\"RMSE: \", rmse)\n",
        "print(\"R-squared: \", r2)"
      ],
      "metadata": {
        "colab": {
          "base_uri": "https://localhost:8080/"
        },
        "id": "p1hWgzi_yMa6",
        "outputId": "bf6642dc-9bf4-4b72-a180-6d854189d3f3"
      },
      "execution_count": 145,
      "outputs": [
        {
          "output_type": "stream",
          "name": "stdout",
          "text": [
            "[LightGBM] [Warning] Auto-choosing col-wise multi-threading, the overhead of testing was 0.079003 seconds.\n",
            "You can set `force_col_wise=true` to remove the overhead.\n",
            "[LightGBM] [Info] Total Bins 35888\n",
            "[LightGBM] [Info] Number of data points in the train set: 51803, number of used features: 144\n",
            "[LightGBM] [Info] Start training from score 7769.888273\n",
            "RMSE:  12644.992491287465\n",
            "R-squared:  0.9454289538359816\n"
          ]
        }
      ]
    },
    {
      "cell_type": "code",
      "source": [
        "!pip install catboost --quiet"
      ],
      "metadata": {
        "colab": {
          "base_uri": "https://localhost:8080/"
        },
        "id": "QgyTMMDyyULi",
        "outputId": "b63234d9-5ada-4016-f455-d3f6cba602e9"
      },
      "execution_count": 109,
      "outputs": [
        {
          "output_type": "stream",
          "name": "stdout",
          "text": [
            "\u001b[2K     \u001b[90m━━━━━━━━━━━━━━━━━━━━━━━━━━━━━━━━━━━━━━━━\u001b[0m \u001b[32m76.6/76.6 MB\u001b[0m \u001b[31m12.3 MB/s\u001b[0m eta \u001b[36m0:00:00\u001b[0m\n",
            "\u001b[?25h"
          ]
        }
      ]
    },
    {
      "cell_type": "code",
      "source": [
        "from catboost import CatBoostRegressor\n",
        "\n",
        "cat_model = CatBoostRegressor(iterations=1000, learning_rate=0.1, loss_function='RMSE')\n",
        "cat_model.fit(X_train, y_train, verbose=False)\n",
        "\n",
        "y_pred = cat_model.predict(X_test)\n",
        "# Calculate the RMSE and R-squared on the testing data\n",
        "rmse = np.sqrt(mean_squared_error(y_test, y_pred))\n",
        "r2 = r2_score(y_test, y_pred)\n",
        "\n",
        "# Print the results\n",
        "print(\"RMSE: \", rmse)\n",
        "print(\"R-squared: \", r2)"
      ],
      "metadata": {
        "colab": {
          "base_uri": "https://localhost:8080/"
        },
        "id": "FadOLV2-ynl4",
        "outputId": "cc1783e0-ccc9-43dc-9085-7a1a1c4c6e7b"
      },
      "execution_count": 171,
      "outputs": [
        {
          "output_type": "stream",
          "name": "stdout",
          "text": [
            "RMSE:  4397.369111441289\n",
            "R-squared:  0.9934005009463743\n"
          ]
        }
      ]
    },
    {
      "cell_type": "code",
      "source": [],
      "metadata": {
        "id": "6l66Dq-OOZdj"
      },
      "execution_count": null,
      "outputs": []
    },
    {
      "cell_type": "code",
      "source": [
        "from sklearn.model_selection import GridSearchCV\n",
        "\n",
        "cat_model = CatBoostRegressor(loss_function='RMSE', verbose=False)\n",
        "\n",
        "param_grid = {\n",
        "    'iterations': [500, 1000, 2000],\n",
        "    'learning_rate': [0.01, 0.1, 0.5]\n",
        "}\n",
        "\n",
        "grid_search = GridSearchCV(cat_model, param_grid, cv=5)\n",
        "grid_search.fit(X_train, y_train)\n",
        "\n",
        "# Get the best model and its parameters\n",
        "best_cat_model = grid_search.best_estimator_\n",
        "best_params = grid_search.best_params_\n",
        "\n",
        "# Evaluate the best model on the testing data\n",
        "y_pred = best_cat_model.predict(X_test)\n",
        "rmse = np.sqrt(mean_squared_error(y_test, y_pred))\n",
        "r2 = r2_score(y_test, y_pred)\n",
        "\n",
        "# Print the results\n",
        "print(\"Best parameters: \", best_params)\n",
        "print(\"RMSE: \", rmse)"
      ],
      "metadata": {
        "colab": {
          "base_uri": "https://localhost:8080/"
        },
        "id": "V1LQEzZM9yb1",
        "outputId": "78bc868a-5409-45d7-b095-1ac21eb76fa6"
      },
      "execution_count": 175,
      "outputs": [
        {
          "output_type": "stream",
          "name": "stdout",
          "text": [
            "Best parameters:  {'iterations': 2000, 'learning_rate': 0.1}\n",
            "RMSE:  4195.642738055827\n"
          ]
        }
      ]
    },
    {
      "cell_type": "code",
      "source": [
        "best_params = grid_search.best_params_\n",
        "\n",
        "best_iterations = best_params['iterations']\n",
        "best_learning_rate = best_params['learning_rate']\n",
        "\n",
        "best_cat_model = CatBoostRegressor(iterations=best_iterations, learning_rate=best_learning_rate, loss_function='RMSE', verbose=False)\n",
        "\n",
        "best_cat_model.fit(X_train, y_train)\n",
        "\n",
        "# Evaluate the best model on the testing data\n",
        "y_pred = best_cat_model.predict(X_test)\n",
        "rmse = np.sqrt(mean_squared_error(y_test, y_pred))\n",
        "r2 = r2_score(y_test, y_pred)\n",
        "\n",
        "# Print the results\n",
        "print(\"RMSE: \", rmse)\n",
        "print(\"R-squared: \", r2)\n"
      ],
      "metadata": {
        "colab": {
          "base_uri": "https://localhost:8080/"
        },
        "id": "2wdb46ox-B50",
        "outputId": "f3e023b4-5fd3-454f-d9c9-f49e1f12866f"
      },
      "execution_count": 177,
      "outputs": [
        {
          "output_type": "stream",
          "name": "stdout",
          "text": [
            "RMSE:  4195.642738055827\n",
            "R-squared:  0.9939921078313473\n"
          ]
        }
      ]
    },
    {
      "cell_type": "code",
      "source": [
        "# Make prediction on the test set\n",
        "test = test_eng.drop(['ID_LAT_LON_YEAR_WEEK', 'location'], axis = 1).fillna(0)\n",
        "predictions = best_cat_model.predict(test)\n",
        "\n",
        "# # Create a submission file\n",
        "sub_file = pd.DataFrame({'ID_LAT_LON_YEAR_WEEK': test_eng.ID_LAT_LON_YEAR_WEEK, 'emission': predictions})\n",
        "# Create file\n",
        "sub_file.to_csv('BaselineSubmissioncat2.csv', index = False) \n",
        "from google.colab import files\n",
        "files.download('BaselineSubmissioncat2.csv')"
      ],
      "metadata": {
        "colab": {
          "base_uri": "https://localhost:8080/",
          "height": 17
        },
        "id": "VD_Bo3Wx6i8E",
        "outputId": "db237eab-6659-4afb-8e68-029f4900953b"
      },
      "execution_count": 178,
      "outputs": [
        {
          "output_type": "display_data",
          "data": {
            "text/plain": [
              "<IPython.core.display.Javascript object>"
            ],
            "application/javascript": [
              "\n",
              "    async function download(id, filename, size) {\n",
              "      if (!google.colab.kernel.accessAllowed) {\n",
              "        return;\n",
              "      }\n",
              "      const div = document.createElement('div');\n",
              "      const label = document.createElement('label');\n",
              "      label.textContent = `Downloading \"${filename}\": `;\n",
              "      div.appendChild(label);\n",
              "      const progress = document.createElement('progress');\n",
              "      progress.max = size;\n",
              "      div.appendChild(progress);\n",
              "      document.body.appendChild(div);\n",
              "\n",
              "      const buffers = [];\n",
              "      let downloaded = 0;\n",
              "\n",
              "      const channel = await google.colab.kernel.comms.open(id);\n",
              "      // Send a message to notify the kernel that we're ready.\n",
              "      channel.send({})\n",
              "\n",
              "      for await (const message of channel.messages) {\n",
              "        // Send a message to notify the kernel that we're ready.\n",
              "        channel.send({})\n",
              "        if (message.buffers) {\n",
              "          for (const buffer of message.buffers) {\n",
              "            buffers.push(buffer);\n",
              "            downloaded += buffer.byteLength;\n",
              "            progress.value = downloaded;\n",
              "          }\n",
              "        }\n",
              "      }\n",
              "      const blob = new Blob(buffers, {type: 'application/binary'});\n",
              "      const a = document.createElement('a');\n",
              "      a.href = window.URL.createObjectURL(blob);\n",
              "      a.download = filename;\n",
              "      div.appendChild(a);\n",
              "      a.click();\n",
              "      div.remove();\n",
              "    }\n",
              "  "
            ]
          },
          "metadata": {}
        },
        {
          "output_type": "display_data",
          "data": {
            "text/plain": [
              "<IPython.core.display.Javascript object>"
            ],
            "application/javascript": [
              "download(\"download_1c4e0387-1caa-41c8-a125-5997ce7f7acb\", \"BaselineSubmissioncat2.csv\", 1190022)"
            ]
          },
          "metadata": {}
        }
      ]
    },
    {
      "cell_type": "code",
      "source": [],
      "metadata": {
        "id": "3SIhRX466-9O"
      },
      "execution_count": 173,
      "outputs": []
    },
    {
      "cell_type": "code",
      "source": [
        "from google.colab import files\n",
        "files.download('BaselineSubmissioncat2.csv')"
      ],
      "metadata": {
        "colab": {
          "base_uri": "https://localhost:8080/",
          "height": 17
        },
        "id": "0iDjWMpbI5OV",
        "outputId": "f001fda1-806d-41c4-cb9c-f8a07c294567"
      },
      "execution_count": 174,
      "outputs": [
        {
          "output_type": "display_data",
          "data": {
            "text/plain": [
              "<IPython.core.display.Javascript object>"
            ],
            "application/javascript": [
              "\n",
              "    async function download(id, filename, size) {\n",
              "      if (!google.colab.kernel.accessAllowed) {\n",
              "        return;\n",
              "      }\n",
              "      const div = document.createElement('div');\n",
              "      const label = document.createElement('label');\n",
              "      label.textContent = `Downloading \"${filename}\": `;\n",
              "      div.appendChild(label);\n",
              "      const progress = document.createElement('progress');\n",
              "      progress.max = size;\n",
              "      div.appendChild(progress);\n",
              "      document.body.appendChild(div);\n",
              "\n",
              "      const buffers = [];\n",
              "      let downloaded = 0;\n",
              "\n",
              "      const channel = await google.colab.kernel.comms.open(id);\n",
              "      // Send a message to notify the kernel that we're ready.\n",
              "      channel.send({})\n",
              "\n",
              "      for await (const message of channel.messages) {\n",
              "        // Send a message to notify the kernel that we're ready.\n",
              "        channel.send({})\n",
              "        if (message.buffers) {\n",
              "          for (const buffer of message.buffers) {\n",
              "            buffers.push(buffer);\n",
              "            downloaded += buffer.byteLength;\n",
              "            progress.value = downloaded;\n",
              "          }\n",
              "        }\n",
              "      }\n",
              "      const blob = new Blob(buffers, {type: 'application/binary'});\n",
              "      const a = document.createElement('a');\n",
              "      a.href = window.URL.createObjectURL(blob);\n",
              "      a.download = filename;\n",
              "      div.appendChild(a);\n",
              "      a.click();\n",
              "      div.remove();\n",
              "    }\n",
              "  "
            ]
          },
          "metadata": {}
        },
        {
          "output_type": "display_data",
          "data": {
            "text/plain": [
              "<IPython.core.display.Javascript object>"
            ],
            "application/javascript": [
              "download(\"download_f175490b-d855-4c94-ac46-f5c91c8e24e9\", \"BaselineSubmissioncat.csv\", 1189783)"
            ]
          },
          "metadata": {}
        }
      ]
    },
    {
      "cell_type": "code",
      "source": [
        "from sklearn.tree import DecisionTreeRegressor\n",
        "# decision tree regresison on original data\n",
        "dt = DecisionTreeRegressor()\n",
        "dt.fit(X_train,y_train)\n",
        "dt_pruned = DecisionTreeRegressor(max_depth=5)\n",
        "dt_pruned.fit(X_train,y_train)\n",
        "\n",
        "y_pred = dt_pruned.predict(X_test)\n",
        "# Calculate the RMSE and R-squared on the testing data\n",
        "rmse = np.sqrt(mean_squared_error(y_test, y_pred))\n",
        "r2 = r2_score(y_test, y_pred)\n",
        "\n",
        "# Print the results\n",
        "print(\"RMSE: \", rmse)\n",
        "print(\"R-squared: \", r2)"
      ],
      "metadata": {
        "colab": {
          "base_uri": "https://localhost:8080/"
        },
        "id": "RgMwFpPe301k",
        "outputId": "05951062-875d-46ba-a059-d23335ab2f22"
      },
      "execution_count": 146,
      "outputs": [
        {
          "output_type": "stream",
          "name": "stdout",
          "text": [
            "RMSE:  24983.065095044574\n",
            "R-squared:  0.786981870374016\n"
          ]
        }
      ]
    },
    {
      "cell_type": "code",
      "source": [
        "\n",
        "from sklearn.model_selection import cross_val_score\n",
        "from sklearn.model_selection import cross_validate\n",
        "\n",
        "LinReg = LinearRegression()\n",
        "\n",
        "# Perform cross-validation with 5 folds\n",
        "scoring = ['neg_mean_squared_error', 'r2']\n",
        "cv_scores = cross_validate(LinReg, X_train, y_train, cv=10, scoring=scoring)\n",
        "\n",
        "# Calculate the RMSE and R-squared from the cross-validation scores\n",
        "rmse_cv = np.sqrt(-cv_scores['test_neg_mean_squared_error'].mean())\n",
        "r2_cv = cv_scores['test_r2'].mean()\n",
        "\n",
        "# Print the results\n",
        "print(\"Cross-validation RMSE: \", rmse_cv)\n",
        "print(\"Cross-validation R-squared: \", r2_cv)\n",
        "     "
      ],
      "metadata": {
        "colab": {
          "base_uri": "https://localhost:8080/"
        },
        "id": "PFQfCHWJ4EZO",
        "outputId": "ba735ff3-c88e-4e94-a1f9-d39ee682743c"
      },
      "execution_count": 113,
      "outputs": [
        {
          "output_type": "stream",
          "name": "stdout",
          "text": [
            "Cross-validation RMSE:  48965.30570294872\n",
            "Cross-validation R-squared:  0.10993157519234042\n"
          ]
        }
      ]
    },
    {
      "cell_type": "code",
      "source": [
        "\n",
        "from keras.callbacks import ModelCheckpoint\n",
        "from keras.models import Sequential\n",
        "from keras.layers import Dense, Activation, Flatten\n",
        "\n",
        "#define the model\n",
        "NN_model = Sequential()\n",
        "\n",
        "# The Input Layer :\n",
        "NN_model.add(Dense(128, kernel_initializer='normal',input_dim = X_train.shape[1], activation='relu'))\n",
        "\n",
        "# The Hidden Layers :\n",
        "NN_model.add(Dense(256, kernel_initializer='normal',activation='relu'))\n",
        "NN_model.add(Dense(256, kernel_initializer='normal',activation='relu'))\n",
        "NN_model.add(Dense(256, kernel_initializer='normal',activation='relu'))\n",
        "\n",
        "# The Output Layer :\n",
        "NN_model.add(Dense(1, kernel_initializer='normal',activation='linear'))\n",
        "\n",
        "# Compile the network :\n",
        "NN_model.compile(loss='mean_absolute_error', optimizer='adam', metrics=['mean_absolute_error'])\n",
        "NN_model.summary()\n",
        "     "
      ],
      "metadata": {
        "colab": {
          "base_uri": "https://localhost:8080/"
        },
        "id": "Ojx5-bDR5BlI",
        "outputId": "81f31125-8f08-4f95-f2eb-33f43dadaf2d"
      },
      "execution_count": 147,
      "outputs": [
        {
          "output_type": "stream",
          "name": "stdout",
          "text": [
            "Model: \"sequential_2\"\n",
            "_________________________________________________________________\n",
            " Layer (type)                Output Shape              Param #   \n",
            "=================================================================\n",
            " dense_5 (Dense)             (None, 128)               18560     \n",
            "                                                                 \n",
            " dense_6 (Dense)             (None, 256)               33024     \n",
            "                                                                 \n",
            " dense_7 (Dense)             (None, 256)               65792     \n",
            "                                                                 \n",
            " dense_8 (Dense)             (None, 256)               65792     \n",
            "                                                                 \n",
            " dense_9 (Dense)             (None, 1)                 257       \n",
            "                                                                 \n",
            "=================================================================\n",
            "Total params: 183,425\n",
            "Trainable params: 183,425\n",
            "Non-trainable params: 0\n",
            "_________________________________________________________________\n"
          ]
        }
      ]
    },
    {
      "cell_type": "code",
      "source": [
        "checkpoint_name = 'best_model1.hdf5'\n",
        "checkpoint = ModelCheckpoint(checkpoint_name, monitor='val_loss', verbose = 1, save_best_only = True, mode ='auto')\n",
        "callbacks_list = [checkpoint]"
      ],
      "metadata": {
        "id": "0lOSsch95J6j"
      },
      "execution_count": 148,
      "outputs": []
    },
    {
      "cell_type": "code",
      "source": [
        "NN_model.fit(X_train, y_train, epochs=30, batch_size=32, validation_split = 0.2, callbacks=callbacks_list)\n"
      ],
      "metadata": {
        "colab": {
          "base_uri": "https://localhost:8080/"
        },
        "id": "bLIiy_TX5iKQ",
        "outputId": "839317d1-db99-441d-dfe0-31419e020b9d"
      },
      "execution_count": 149,
      "outputs": [
        {
          "output_type": "stream",
          "name": "stdout",
          "text": [
            "Epoch 1/30\n",
            "1288/1296 [============================>.] - ETA: 0s - loss: 7862.0786 - mean_absolute_error: 7862.0786\n",
            "Epoch 1: val_loss improved from inf to 6691.80176, saving model to best_model1.hdf5\n",
            "1296/1296 [==============================] - 6s 4ms/step - loss: 7863.4004 - mean_absolute_error: 7863.4004 - val_loss: 6691.8018 - val_mean_absolute_error: 6691.8018\n",
            "Epoch 2/30\n",
            "1288/1296 [============================>.] - ETA: 0s - loss: 7792.0444 - mean_absolute_error: 7792.0444\n",
            "Epoch 2: val_loss did not improve from 6691.80176\n",
            "1296/1296 [==============================] - 5s 4ms/step - loss: 7774.6626 - mean_absolute_error: 7774.6626 - val_loss: 6700.7222 - val_mean_absolute_error: 6700.7222\n",
            "Epoch 3/30\n",
            "1283/1296 [============================>.] - ETA: 0s - loss: 7768.1284 - mean_absolute_error: 7768.1284\n",
            "Epoch 3: val_loss improved from 6691.80176 to 6687.18994, saving model to best_model1.hdf5\n",
            "1296/1296 [==============================] - 5s 4ms/step - loss: 7771.2603 - mean_absolute_error: 7771.2603 - val_loss: 6687.1899 - val_mean_absolute_error: 6687.1899\n",
            "Epoch 4/30\n",
            "1296/1296 [==============================] - ETA: 0s - loss: 7769.5371 - mean_absolute_error: 7769.5371\n",
            "Epoch 4: val_loss did not improve from 6687.18994\n",
            "1296/1296 [==============================] - 6s 4ms/step - loss: 7769.5371 - mean_absolute_error: 7769.5371 - val_loss: 6702.2744 - val_mean_absolute_error: 6702.2744\n",
            "Epoch 5/30\n",
            "1296/1296 [==============================] - ETA: 0s - loss: 7766.6885 - mean_absolute_error: 7766.6885\n",
            "Epoch 5: val_loss did not improve from 6687.18994\n",
            "1296/1296 [==============================] - 6s 5ms/step - loss: 7766.6885 - mean_absolute_error: 7766.6885 - val_loss: 6701.6489 - val_mean_absolute_error: 6701.6489\n",
            "Epoch 6/30\n",
            "1281/1296 [============================>.] - ETA: 0s - loss: 7788.6196 - mean_absolute_error: 7788.6196\n",
            "Epoch 6: val_loss did not improve from 6687.18994\n",
            "1296/1296 [==============================] - 6s 4ms/step - loss: 7766.7944 - mean_absolute_error: 7766.7944 - val_loss: 6697.8506 - val_mean_absolute_error: 6697.8506\n",
            "Epoch 7/30\n",
            "1288/1296 [============================>.] - ETA: 0s - loss: 7785.1343 - mean_absolute_error: 7785.1343\n",
            "Epoch 7: val_loss improved from 6687.18994 to 6684.79639, saving model to best_model1.hdf5\n",
            "1296/1296 [==============================] - 6s 4ms/step - loss: 7766.6621 - mean_absolute_error: 7766.6621 - val_loss: 6684.7964 - val_mean_absolute_error: 6684.7964\n",
            "Epoch 8/30\n",
            "1290/1296 [============================>.] - ETA: 0s - loss: 7722.0396 - mean_absolute_error: 7722.0396\n",
            "Epoch 8: val_loss did not improve from 6684.79639\n",
            "1296/1296 [==============================] - 5s 4ms/step - loss: 7765.0244 - mean_absolute_error: 7765.0244 - val_loss: 6691.8560 - val_mean_absolute_error: 6691.8560\n",
            "Epoch 9/30\n",
            "1288/1296 [============================>.] - ETA: 0s - loss: 7752.2275 - mean_absolute_error: 7752.2275\n",
            "Epoch 9: val_loss improved from 6684.79639 to 6682.56055, saving model to best_model1.hdf5\n",
            "1296/1296 [==============================] - 5s 4ms/step - loss: 7763.7734 - mean_absolute_error: 7763.7734 - val_loss: 6682.5605 - val_mean_absolute_error: 6682.5605\n",
            "Epoch 10/30\n",
            "1283/1296 [============================>.] - ETA: 0s - loss: 7775.5742 - mean_absolute_error: 7775.5742\n",
            "Epoch 10: val_loss did not improve from 6682.56055\n",
            "1296/1296 [==============================] - 5s 4ms/step - loss: 7764.1211 - mean_absolute_error: 7764.1211 - val_loss: 6683.0127 - val_mean_absolute_error: 6683.0127\n",
            "Epoch 11/30\n",
            "1294/1296 [============================>.] - ETA: 0s - loss: 7741.9136 - mean_absolute_error: 7741.9136\n",
            "Epoch 11: val_loss did not improve from 6682.56055\n",
            "1296/1296 [==============================] - 6s 4ms/step - loss: 7763.6162 - mean_absolute_error: 7763.6162 - val_loss: 6682.8252 - val_mean_absolute_error: 6682.8252\n",
            "Epoch 12/30\n",
            "1289/1296 [============================>.] - ETA: 0s - loss: 7749.6221 - mean_absolute_error: 7749.6221\n",
            "Epoch 12: val_loss did not improve from 6682.56055\n",
            "1296/1296 [==============================] - 5s 4ms/step - loss: 7763.4229 - mean_absolute_error: 7763.4229 - val_loss: 6684.2056 - val_mean_absolute_error: 6684.2056\n",
            "Epoch 13/30\n",
            "1283/1296 [============================>.] - ETA: 0s - loss: 7769.0942 - mean_absolute_error: 7769.0942\n",
            "Epoch 13: val_loss did not improve from 6682.56055\n",
            "1296/1296 [==============================] - 6s 4ms/step - loss: 7764.0405 - mean_absolute_error: 7764.0405 - val_loss: 6682.8042 - val_mean_absolute_error: 6682.8042\n",
            "Epoch 14/30\n",
            "1284/1296 [============================>.] - ETA: 0s - loss: 7766.7383 - mean_absolute_error: 7766.7383\n",
            "Epoch 14: val_loss did not improve from 6682.56055\n",
            "1296/1296 [==============================] - 5s 4ms/step - loss: 7762.9136 - mean_absolute_error: 7762.9136 - val_loss: 6683.9858 - val_mean_absolute_error: 6683.9858\n",
            "Epoch 15/30\n",
            "1288/1296 [============================>.] - ETA: 0s - loss: 7744.2266 - mean_absolute_error: 7744.2266\n",
            "Epoch 15: val_loss did not improve from 6682.56055\n",
            "1296/1296 [==============================] - 5s 4ms/step - loss: 7761.8525 - mean_absolute_error: 7761.8525 - val_loss: 6684.8384 - val_mean_absolute_error: 6684.8384\n",
            "Epoch 16/30\n",
            "1293/1296 [============================>.] - ETA: 0s - loss: 7769.2163 - mean_absolute_error: 7769.2163\n",
            "Epoch 16: val_loss improved from 6682.56055 to 6680.98145, saving model to best_model1.hdf5\n",
            "1296/1296 [==============================] - 5s 4ms/step - loss: 7762.3149 - mean_absolute_error: 7762.3149 - val_loss: 6680.9814 - val_mean_absolute_error: 6680.9814\n",
            "Epoch 17/30\n",
            "1294/1296 [============================>.] - ETA: 0s - loss: 7763.9805 - mean_absolute_error: 7763.9805\n",
            "Epoch 17: val_loss did not improve from 6680.98145\n",
            "1296/1296 [==============================] - 9s 7ms/step - loss: 7761.5859 - mean_absolute_error: 7761.5859 - val_loss: 6681.9976 - val_mean_absolute_error: 6681.9976\n",
            "Epoch 18/30\n",
            "1280/1296 [============================>.] - ETA: 0s - loss: 7724.4507 - mean_absolute_error: 7724.4507\n",
            "Epoch 18: val_loss did not improve from 6680.98145\n",
            "1296/1296 [==============================] - 6s 5ms/step - loss: 7761.7227 - mean_absolute_error: 7761.7227 - val_loss: 6699.6382 - val_mean_absolute_error: 6699.6382\n",
            "Epoch 19/30\n",
            "1293/1296 [============================>.] - ETA: 0s - loss: 7764.2515 - mean_absolute_error: 7764.2515\n",
            "Epoch 19: val_loss did not improve from 6680.98145\n",
            "1296/1296 [==============================] - 6s 4ms/step - loss: 7761.2627 - mean_absolute_error: 7761.2627 - val_loss: 6681.0200 - val_mean_absolute_error: 6681.0200\n",
            "Epoch 20/30\n",
            "1290/1296 [============================>.] - ETA: 0s - loss: 7770.2681 - mean_absolute_error: 7770.2681\n",
            "Epoch 20: val_loss did not improve from 6680.98145\n",
            "1296/1296 [==============================] - 5s 4ms/step - loss: 7761.6685 - mean_absolute_error: 7761.6685 - val_loss: 6683.7070 - val_mean_absolute_error: 6683.7070\n",
            "Epoch 21/30\n",
            "1294/1296 [============================>.] - ETA: 0s - loss: 7762.1953 - mean_absolute_error: 7762.1953\n",
            "Epoch 21: val_loss improved from 6680.98145 to 6680.20947, saving model to best_model1.hdf5\n",
            "1296/1296 [==============================] - 5s 4ms/step - loss: 7760.7104 - mean_absolute_error: 7760.7104 - val_loss: 6680.2095 - val_mean_absolute_error: 6680.2095\n",
            "Epoch 22/30\n",
            "1293/1296 [============================>.] - ETA: 0s - loss: 7763.6089 - mean_absolute_error: 7763.6089\n",
            "Epoch 22: val_loss improved from 6680.20947 to 6680.07715, saving model to best_model1.hdf5\n",
            "1296/1296 [==============================] - 5s 4ms/step - loss: 7761.5010 - mean_absolute_error: 7761.5010 - val_loss: 6680.0771 - val_mean_absolute_error: 6680.0771\n",
            "Epoch 23/30\n",
            "1285/1296 [============================>.] - ETA: 0s - loss: 7757.0498 - mean_absolute_error: 7757.0498\n",
            "Epoch 23: val_loss improved from 6680.07715 to 6679.64502, saving model to best_model1.hdf5\n",
            "1296/1296 [==============================] - 5s 4ms/step - loss: 7760.3916 - mean_absolute_error: 7760.3916 - val_loss: 6679.6450 - val_mean_absolute_error: 6679.6450\n",
            "Epoch 24/30\n",
            "1285/1296 [============================>.] - ETA: 0s - loss: 7736.8975 - mean_absolute_error: 7736.8975\n",
            "Epoch 24: val_loss did not improve from 6679.64502\n",
            "1296/1296 [==============================] - 5s 4ms/step - loss: 7759.7573 - mean_absolute_error: 7759.7573 - val_loss: 6690.4663 - val_mean_absolute_error: 6690.4663\n",
            "Epoch 25/30\n",
            "1290/1296 [============================>.] - ETA: 0s - loss: 7749.8760 - mean_absolute_error: 7749.8760\n",
            "Epoch 25: val_loss did not improve from 6679.64502\n",
            "1296/1296 [==============================] - 5s 4ms/step - loss: 7760.4966 - mean_absolute_error: 7760.4966 - val_loss: 6680.2935 - val_mean_absolute_error: 6680.2935\n",
            "Epoch 26/30\n",
            "1292/1296 [============================>.] - ETA: 0s - loss: 7732.3452 - mean_absolute_error: 7732.3452\n",
            "Epoch 26: val_loss did not improve from 6679.64502\n",
            "1296/1296 [==============================] - 6s 5ms/step - loss: 7759.5728 - mean_absolute_error: 7759.5728 - val_loss: 6690.3179 - val_mean_absolute_error: 6690.3179\n",
            "Epoch 27/30\n",
            "1294/1296 [============================>.] - ETA: 0s - loss: 7764.2842 - mean_absolute_error: 7764.2842\n",
            "Epoch 27: val_loss did not improve from 6679.64502\n",
            "1296/1296 [==============================] - 5s 4ms/step - loss: 7760.2539 - mean_absolute_error: 7760.2539 - val_loss: 6680.8394 - val_mean_absolute_error: 6680.8394\n",
            "Epoch 28/30\n",
            "1283/1296 [============================>.] - ETA: 0s - loss: 7787.0181 - mean_absolute_error: 7787.0181\n",
            "Epoch 28: val_loss did not improve from 6679.64502\n",
            "1296/1296 [==============================] - 6s 4ms/step - loss: 7759.6045 - mean_absolute_error: 7759.6045 - val_loss: 6688.1860 - val_mean_absolute_error: 6688.1860\n",
            "Epoch 29/30\n",
            "1296/1296 [==============================] - ETA: 0s - loss: 7760.0796 - mean_absolute_error: 7760.0796\n",
            "Epoch 29: val_loss improved from 6679.64502 to 6678.89600, saving model to best_model1.hdf5\n",
            "1296/1296 [==============================] - 5s 4ms/step - loss: 7760.0796 - mean_absolute_error: 7760.0796 - val_loss: 6678.8960 - val_mean_absolute_error: 6678.8960\n",
            "Epoch 30/30\n",
            "1293/1296 [============================>.] - ETA: 0s - loss: 7765.3076 - mean_absolute_error: 7765.3076\n",
            "Epoch 30: val_loss did not improve from 6678.89600\n",
            "1296/1296 [==============================] - 5s 4ms/step - loss: 7759.1836 - mean_absolute_error: 7759.1836 - val_loss: 6678.9678 - val_mean_absolute_error: 6678.9678\n"
          ]
        },
        {
          "output_type": "execute_result",
          "data": {
            "text/plain": [
              "<keras.callbacks.History at 0x7f85cbc455e0>"
            ]
          },
          "metadata": {},
          "execution_count": 149
        }
      ]
    },
    {
      "cell_type": "code",
      "source": [
        "from keras.models import load_model\n",
        "# Load the saved model\n",
        "saved_model = load_model('best_model1.hdf5')\n",
        "# Make predictions on the testing data\n",
        "y_pred = saved_model.predict(X_test)\n",
        "\n",
        "# Calculate the RMSE and R-squared on the testing data\n",
        "rmse = np.sqrt(mean_squared_error(y_test, y_pred))\n",
        "r2 = r2_score(y_test, y_pred)\n",
        "\n",
        "# Print the results\n",
        "print(\"RMSE:\", rmse)\n",
        "print(\"R-squared:\", r2)\n",
        "     "
      ],
      "metadata": {
        "colab": {
          "base_uri": "https://localhost:8080/"
        },
        "id": "ZtNxxEQn5msK",
        "outputId": "5b742a51-a496-4853-8dc1-79fc6fc5a375"
      },
      "execution_count": 151,
      "outputs": [
        {
          "output_type": "stream",
          "name": "stdout",
          "text": [
            "694/694 [==============================] - 1s 2ms/step\n",
            "RMSE: 54658.05355247871\n",
            "R-squared: -0.019608510111539523\n"
          ]
        }
      ]
    },
    {
      "cell_type": "code",
      "source": [],
      "metadata": {
        "id": "uXjbpvxX6MVC"
      },
      "execution_count": null,
      "outputs": []
    }
  ]
}